{
 "cells": [
  {
   "cell_type": "markdown",
   "metadata": {},
   "source": [
    "## How to run the script"
   ]
  },
  {
   "cell_type": "markdown",
   "metadata": {},
   "source": [
    "1. Please run the pre intervetnion script before the post intervention script\n",
    "2. Define what time point to observe benefit tracking in select_periods"
   ]
  },
  {
   "cell_type": "code",
   "execution_count": 1,
   "metadata": {},
   "outputs": [],
   "source": [
    "# time point \n",
    "select_year = '2019/20'\n",
    "selec_period_final = 2 # this will select all periods up to the number specified. so if 2 selected, it will take periods 1 and 2"
   ]
  },
  {
   "cell_type": "code",
   "execution_count": 2,
   "metadata": {},
   "outputs": [],
   "source": [
    "# define output file name\n",
    "\n",
    "select_periods = []\n",
    "period_list=[]\n",
    "for i in range(1,selec_period_final+1):\n",
    "    tmp = 'P0{pp}'.format(pp=i)\n",
    "    period_list.append(tmp)\n",
    "    tmp2 = '{yy} {pp}'.format(yy=select_year,pp=tmp)\n",
    "    select_periods.append(tmp2)\n",
    "\n",
    "output_file_name = 'BT_FMS_KPIs_TD_Pre_{yy}_{pp1}-{pp2}.csv'.format(yy = select_year, pp1 = period_list[0],pp2 = period_list[-1])\n",
    "output_file_name =output_file_name.replace('/','-')\n",
    "column_name = 'Pre-intervention ({yy} {pp1}-{pp2})'.format(yy = select_year, pp1 = period_list[0],pp2 = period_list[-1])"
   ]
  },
  {
   "cell_type": "markdown",
   "metadata": {},
   "source": [
    "## Purpose of script\n",
    "\n",
    "The aim of this script is to show a reduction the number of incidents and amount of time that services are delayed attributable to the lack of specific competences using the strategic framework for benefit and assessment stratergy. This will done in two steps:\n",
    "\n",
    "First stage indicators:\n",
    "1. Total time spend of fixing assets failures that led to a delay.\n",
    "1. Total number of incidents attributable to retrained competences.\n",
    "1. Average delay time per incident attributable to retrained competences.\n",
    "1. Number of incidents attributable to retrained competences per team member.  \n",
    "1. Number of completed jobs and required jobs.\n",
    "\n",
    "\n",
    "Second stage indicators:\n",
    "1. Total delays in minutes attributable to retrained competences\n",
    "\n",
    "All this will be answered for pre and post intervention with this script focusing on PRE-intervention data. The date of intervention is taken as September 2021.\n",
    "\n",
    "1. Get all file paths and read files\n",
    "2. Merge FMS Trust with Asset table to get WGS information\n",
    "3. Only keep competency based incidents\n",
    "4. teamsize\n",
    "5. Add FMS recommendations taken up to date to the data\n",
    "6. FMS KPIs "
   ]
  },
  {
   "cell_type": "markdown",
   "metadata": {},
   "source": [
    "## 1. Get all file paths and read files"
   ]
  },
  {
   "cell_type": "markdown",
   "metadata": {},
   "source": [
    "#### 1.A. Import relavent libraries"
   ]
  },
  {
   "cell_type": "code",
   "execution_count": 3,
   "metadata": {},
   "outputs": [],
   "source": [
    "import pandas as pd\n",
    "pd.set_option('display.float_format', lambda x: '%.3f' % x) # Supress scientific notation\n",
    "import numpy as np\n",
    "from azure.storage.blob import BlobServiceClient\n",
    "import os\n",
    "import pyodbc\n",
    "from io import StringIO, BytesIO\n",
    "import io"
   ]
  },
  {
   "cell_type": "markdown",
   "metadata": {},
   "source": [
    "#### 1.B. Define connections to SQL tables and Azure Storage blobs"
   ]
  },
  {
   "cell_type": "code",
   "execution_count": 4,
   "metadata": {},
   "outputs": [],
   "source": [
    "# Define the connection to SQL database\n",
    "#conn = pyodbc.connect( # SQL server\n",
    "                       # name of SQL data base\n",
    "                        # UID =\n",
    "                       # Password\n",
    "#                      ) # databasename\n",
    "\n",
    "# To connect to Azure devp envirnoment                        \n",
    "#STORAGEACCOUNTURL= ''\n",
    "#STORAGEACCOUNTKEY= ''\n",
    "#CONTAINERNAME= ''\n",
    "#blob_service_client_instance_devp = BlobServiceClient(account_url=STORAGEACCOUNTURL, credential=STORAGEACCOUNTKEY)\n",
    "\n",
    "# To connect to Azure test envirnoment                        \n",
    "#STORAGEACCOUNTURL= ''\n",
    "#STORAGEACCOUNTKEY= ''\n",
    "#CONTAINERNAME= ''\n",
    "#blob_service_client_instance_devp = BlobServiceClient(account_url=STORAGEACCOUNTURL, credential=STORAGEACCOUNTKEY)\n",
    "\n",
    "# To connect to Azure staging envirnoment                        \n",
    "#STORAGEACCOUNTURL= ''\n",
    "#STORAGEACCOUNTKEY= ''\n",
    "#CONTAINERNAME= ''\n",
    "#blob_service_client_instance_devp = BlobServiceClient(account_url=STORAGEACCOUNTURL, credential=STORAGEACCOUNTKEY)\n",
    "\n",
    "# To connect to Azure prod envirnoment                        \n",
    "#STORAGEACCOUNTURL= ''\n",
    "#STORAGEACCOUNTKEY= ''\n",
    "#CONTAINERNAME= ''\n",
    "#blob_service_client_instance_devp = BlobServiceClient(account_url=STORAGEACCOUNTURL, credential=STORAGEACCOUNTKEY)\n"
   ]
  },
  {
   "cell_type": "markdown",
   "metadata": {},
   "source": [
    "#### 1.C Define all the Functions used in the script"
   ]
  },
  {
   "cell_type": "code",
   "execution_count": 5,
   "metadata": {},
   "outputs": [],
   "source": [
    "# Define a funtion to read csv files directly from azure data storage\n",
    "def download_csv(BLOBNAME,dtype_var,cols_to_use):\n",
    "    blob_client_instance = blob_service_client_instance_devp.get_blob_client(CONTAINERNAME, BLOBNAME, snapshot=None)\n",
    "    blob_data = blob_client_instance.download_blob()\n",
    "    with BytesIO() as f:\n",
    "        blob_data.readinto(f)\n",
    "        f.seek(0)\n",
    "        data = pd.read_csv(f,dtype=dtype_var,usecols = cols_to_use)   \n",
    "    return data\n",
    "\n",
    "# Define a funtion to read excel files directly from azure data storage\n",
    "def download_excel(BLOBNAME,dtype_var):\n",
    "    blob_client_instance = blob_service_client_instance_devp.get_blob_client(CONTAINERNAME, BLOBNAME, snapshot=None)\n",
    "    blob_data = blob_client_instance.download_blob()\n",
    "    with BytesIO() as f:\n",
    "        blob_data.readinto(f)\n",
    "        f.seek(0)\n",
    "        data = pd.read_excel(f,dtype=dtype_var)   \n",
    "    return data\n",
    "\n",
    "# Rename columns\n",
    "def rename_column(table_name):\n",
    "    table_name.columns = table_name.columns.str.replace(' ', '')\n",
    "    table_name.columns = table_name.columns.str.lower()\n",
    "\n",
    "# Save csv files and upload to azure blob storage\n",
    "def save_outputs_azure_blobs(output_name1,output_name2,azure_environment):\n",
    "    output_name1.to_csv(output_name2, index = False)\n",
    "    # Create a blob client using the local file name as the name for the blob\n",
    "    blob_client = azure_environment.get_blob_client(container='output', blob='static/benefitTracking/FMS/{tmp2}'.format(tmp2=output_name2))\n",
    "    # Upload the created file\n",
    "    with open(output_name2, \"rb\") as data:\n",
    "        blob_client.upload_blob(data,overwrite=True)"
   ]
  },
  {
   "cell_type": "markdown",
   "metadata": {},
   "source": [
    "#### 1.D Read the paths to all files/download blobs/read SQL tables"
   ]
  },
  {
   "cell_type": "code",
   "execution_count": 6,
   "metadata": {},
   "outputs": [],
   "source": [
    "##THIS TAKES 6 MINS TO RUN !!!!!!!!!!!!\n",
    "# FMS Matched (AZURE BLOB)\n",
    "fms=  download_csv('static/benefitsBaseline/FMSmatched/FMSmatched - 05.05.21.csv',str,all)\n",
    "rename_column(fms)\n",
    "\n",
    "# Asset Table (AZURE BLOB)\n",
    "asset=  download_csv('static/benefitsBaseline/FMSmatched/AssetTable.csv',str,['EQUIP_NO', 'EQUIPMENT_GROUP_IDENTIFIER','ROUTE', 'DELIVERY_UNIT','SECTION_MANAGER'])\n",
    "rename_column(asset)\n",
    "\n",
    "# WGS (SQL Table)\n",
    "wgs = pd.read_sql_query('''select * from [dbo].[workgroupsetBaseline]''', conn)\n",
    "rename_column(wgs)\n",
    "\n",
    "# Define a funtcion to read excel files directly from azure data storage\n",
    "blob_client_instance = blob_service_client_instance_devp.get_blob_client(CONTAINERNAME, 'static/benefitsBaseline/competenceLinks/Master Competence Links Baseline.xlsx', snapshot=None)\n",
    "blob_data = blob_client_instance.download_blob()\n",
    "with BytesIO() as f:\n",
    "    blob_data.readinto(f)\n",
    "    f.seek(0)\n",
    "    comp_faults = pd.read_excel(f,'Faults')   \n",
    "rename_column(comp_faults)\n",
    "\n",
    "# teamsize (AZURE BLOB)\n",
    "comp_teamsize =  download_csv('static/benefitsBaseline/teamSize/team_size_PreInter.csv',None,all)\n",
    "rename_column(comp_teamsize)\n",
    "\n",
    "# FMS trainning delivered    \n",
    "fms_trainning_demand =  download_csv('static/benefitsBaseline/trainning_delivered_recommendations/fms_recomen_course_trainning.csv',None,all)\n",
    "rename_column(fms_trainning_demand)"
   ]
  },
  {
   "cell_type": "markdown",
   "metadata": {},
   "source": [
    "## 2. Merge FMS Trust with Asset table to get WGS information"
   ]
  },
  {
   "cell_type": "markdown",
   "metadata": {},
   "source": [
    "#### 2.A Merge FMS and asset table"
   ]
  },
  {
   "cell_type": "code",
   "execution_count": 7,
   "metadata": {},
   "outputs": [
    {
     "name": "stdout",
     "output_type": "stream",
     "text": [
      "418\n"
     ]
    }
   ],
   "source": [
    "# Merge FMS and asset table\n",
    "fms_wgs = fms.merge(asset, how='left', left_on=['assetnumber', 'systemassettypeegi'],  right_on=['equip_no', 'equipment_group_identifier'])\n",
    "fms_wgs = fms_wgs.rename(columns={'section_manager':'workgroupset'})\n",
    "fms_wgs['workgroupset'] = fms_wgs['workgroupset'].str.upper()\n",
    "\n",
    "# Merge with WGS table \n",
    "#wgs['workgroupset'] = wgs['workgroupset'].str.upper()\n",
    "#fms_wgs = fms_wgs.merge(wgs, how='left', left_on=['workgroupset'], right_on=['workgroupset'])\n",
    "print(fms_wgs['workgroupset'].nunique())\n",
    "\n",
    "# Drop records with no section manager as these can't be mapped\n",
    "fms_wgs = fms_wgs.loc[~fms_wgs['workgroupset'].isna()].reset_index(drop=True).copy()"
   ]
  },
  {
   "cell_type": "markdown",
   "metadata": {},
   "source": [
    "#### 2.C. Format columns"
   ]
  },
  {
   "cell_type": "code",
   "execution_count": 8,
   "metadata": {},
   "outputs": [],
   "source": [
    "fms_wgs['occurreddatetime'] = fms_wgs['occurreddatetime'].astype('datetime64[ns]')\n",
    "fms_wgs['rectifieddatetime'] = fms_wgs['rectifieddatetime'].astype('datetime64[ns]')\n",
    "\n",
    "fms_wgs['timetorectify'] = fms_wgs['rectifieddatetime'] - fms_wgs['occurreddatetime']\n",
    "fms_wgs['timetorectify'] = fms_wgs['timetorectify']/np.timedelta64(1,'m')\n",
    "\n",
    "fms_wgs=fms_wgs.drop_duplicates()\n",
    "\n",
    "fms_wgs['Year']= pd.DatetimeIndex(fms_wgs['occurreddatetime']).year\n",
    "fms_wgs['linktrustpfpiminutes']=fms_wgs['linktrustpfpiminutes'].astype(float)"
   ]
  },
  {
   "cell_type": "markdown",
   "metadata": {},
   "source": [
    "#### 2.C. Only keep data from the same periods but different financial periods for per and post intervention"
   ]
  },
  {
   "cell_type": "code",
   "execution_count": 9,
   "metadata": {},
   "outputs": [
    {
     "name": "stdout",
     "output_type": "stream",
     "text": [
      "[1 2]\n",
      "['2019/20']\n",
      "401\n"
     ]
    }
   ],
   "source": [
    "# convert column to str so the period less than 3 can be used \n",
    "fms_wgs['financialperiod'] = fms_wgs['financialperiod'].astype(int)\n",
    "\n",
    "# Pick specific time frames \n",
    "fms_wgs_time = fms_wgs.loc[fms_wgs['financialyear']== select_year]\n",
    "fms_wgs_time = fms_wgs_time.loc[fms_wgs_time['financialperiod']<= selec_period_final]\n",
    "\n",
    "# Print valeus \n",
    "print(fms_wgs_time['financialperiod'].unique())\n",
    "print(fms_wgs_time['financialyear'].unique())\n",
    "print(fms_wgs_time['workgroupset'].nunique())"
   ]
  },
  {
   "cell_type": "markdown",
   "metadata": {},
   "source": [
    "## 3. Only keep competency based incidents"
   ]
  },
  {
   "cell_type": "markdown",
   "metadata": {},
   "source": [
    "#### 3.A. Only keep relevant columns from the data"
   ]
  },
  {
   "cell_type": "code",
   "execution_count": 10,
   "metadata": {},
   "outputs": [],
   "source": [
    "# Only select relevant columns from the competence mapping lup table\n",
    "comp_faults_cln = comp_faults[['linktrustincidentcategory','componentlevel1', 'componentlevel2', 'competencegang']]\n",
    "comp_faults_cln = comp_faults_cln.loc[~comp_faults_cln['competencegang'].isna()].reset_index(drop=True)"
   ]
  },
  {
   "cell_type": "markdown",
   "metadata": {},
   "source": [
    "#### 3.B. Since there are incidents that have more than one competence linked to them, we need to create a new individual for one competence to one incident."
   ]
  },
  {
   "cell_type": "code",
   "execution_count": 11,
   "metadata": {},
   "outputs": [],
   "source": [
    "comp_faults_cln['competencegang'] = comp_faults_cln['competencegang'].str.replace('/',',')\n",
    "comp_faults_cln['competencegang']=comp_faults_cln['competencegang'].str.split(pat=\",\")\n",
    "comp_faults_cln=comp_faults_cln.explode('competencegang')\n",
    "comp_faults_cln=comp_faults_cln.drop_duplicates()"
   ]
  },
  {
   "cell_type": "markdown",
   "metadata": {},
   "source": [
    "#### 3.C. Merge the FMS data with competence to faults mapping"
   ]
  },
  {
   "cell_type": "code",
   "execution_count": 12,
   "metadata": {},
   "outputs": [],
   "source": [
    "FMS_WGS_comp = fms_wgs_time.merge(comp_faults_cln, how='left', left_on=['linktrustincidentcategory',\n",
    "       'componentlevel1', 'componentlevel2'], right_on=['linktrustincidentcategory',\n",
    "       'componentlevel1', 'componentlevel2'])\n",
    "FMS_WGS_comp = FMS_WGS_comp.loc[~FMS_WGS_comp['competencegang'].isna()].reset_index(drop=True)"
   ]
  },
  {
   "cell_type": "code",
   "execution_count": 13,
   "metadata": {},
   "outputs": [
    {
     "name": "stdout",
     "output_type": "stream",
     "text": [
      "214\n"
     ]
    }
   ],
   "source": [
    "# Rename columns\n",
    "FMS_WGS_comp = FMS_WGS_comp.rename(columns={'deliveryunit':'master-deliveryunit',\n",
    "                                            'competencegang':'competencealias',\n",
    "                                            'linktrustpfpiminutes': 'incidentdelay',\n",
    "                                            'linkTRUSTPfPICost': 'incidentcost',\n",
    "                                            'FailureNumber': 'numberoffailures'})\n",
    "print(FMS_WGS_comp['workgroupset'].nunique())\n"
   ]
  },
  {
   "cell_type": "markdown",
   "metadata": {},
   "source": [
    "## 4. Merge teamsize with FMS data"
   ]
  },
  {
   "cell_type": "code",
   "execution_count": 14,
   "metadata": {},
   "outputs": [
    {
     "name": "stdout",
     "output_type": "stream",
     "text": [
      "196\n"
     ]
    },
    {
     "data": {
      "text/plain": [
       "(2110, 63)"
      ]
     },
     "execution_count": 14,
     "metadata": {},
     "output_type": "execute_result"
    }
   ],
   "source": [
    "# Format teamsize WGS \n",
    "comp_teamsize['workgroupset'] = comp_teamsize['workgroupset'].str.upper()\n",
    "#comp_teamsize = comp_teamsize.drop(['unnamed:0','master-deliveryunit'],axis=1)\n",
    "\n",
    "FMS_WGS_comp_team = pd.merge(FMS_WGS_comp,comp_teamsize, how='left',\n",
    "                              left_on=['workgroupset'],\n",
    "                              right_on=['workgroupset'])\n",
    "FMS_WGS_comp_team = FMS_WGS_comp_team.loc[~FMS_WGS_comp_team['teamsize'].isna()].reset_index(drop=True)\n",
    "\n",
    "print(FMS_WGS_comp_team['workgroupset'].nunique())\n",
    "FMS_WGS_comp_team.shape"
   ]
  },
  {
   "cell_type": "markdown",
   "metadata": {},
   "source": [
    "## 5. Merge FMS trainning delivered recommendations to FMS"
   ]
  },
  {
   "cell_type": "code",
   "execution_count": 15,
   "metadata": {},
   "outputs": [
    {
     "name": "stdout",
     "output_type": "stream",
     "text": [
      "89\n",
      "32\n"
     ]
    }
   ],
   "source": [
    "# NEW METHOD\n",
    "#fms_trainning_demand = fms_trainning_demand.rename(columns={'masterdeliveryunit':'master-deliveryunit'})\n",
    "fms_trainning_demand['workgroupset'] = fms_trainning_demand['workgroupset'].str.upper()\n",
    "print(fms_trainning_demand['workgroupset'].nunique())\n",
    "\n",
    "## Merge losc data with recommendations\n",
    "FMS_WGS_comp_team_rec = pd.merge(FMS_WGS_comp_team,fms_trainning_demand,how='left',\n",
    "                                                    left_on = ['workgroupset','competencealias','masterdeliveryunit'],\n",
    "                                                    right_on = ['workgroupset','competencealias','masterdeliveryunit'])\n",
    "FMS_WGS_comp_team_rec = FMS_WGS_comp_team_rec.loc[~FMS_WGS_comp_team_rec['recommendednumberofpeopletotrain'].isna()]\n",
    "\n",
    "## Number of unique workgroupsets in pre and post inervention \n",
    "print(FMS_WGS_comp_team_rec['workgroupset'].nunique())\n"
   ]
  },
  {
   "cell_type": "markdown",
   "metadata": {},
   "source": [
    "## 6. FMS KPIs "
   ]
  },
  {
   "cell_type": "markdown",
   "metadata": {},
   "source": [
    "#### 6.A. Work group Set and Competence level"
   ]
  },
  {
   "cell_type": "code",
   "execution_count": 16,
   "metadata": {},
   "outputs": [
    {
     "data": {
      "text/html": [
       "<div>\n",
       "<style scoped>\n",
       "    .dataframe tbody tr th:only-of-type {\n",
       "        vertical-align: middle;\n",
       "    }\n",
       "\n",
       "    .dataframe tbody tr th {\n",
       "        vertical-align: top;\n",
       "    }\n",
       "\n",
       "    .dataframe thead th {\n",
       "        text-align: right;\n",
       "    }\n",
       "</style>\n",
       "<table border=\"1\" class=\"dataframe\">\n",
       "  <thead>\n",
       "    <tr style=\"text-align: right;\">\n",
       "      <th></th>\n",
       "      <th>Route</th>\n",
       "      <th>Master Delivery Unit</th>\n",
       "      <th>Work Group Set</th>\n",
       "      <th>Competence Alias</th>\n",
       "      <th>2.1 Delays in minutes attributable to retrained competences</th>\n",
       "      <th>1.1 Time spend of fixing assets failures that led to a delay</th>\n",
       "      <th>Team Size</th>\n",
       "      <th>1.2 Number of incidents attributable to retrained competences</th>\n",
       "      <th>1.3 Delay time per incident attributable to retrained competences</th>\n",
       "      <th>1.4 Number of incidents attributable to retrained competences per team member</th>\n",
       "    </tr>\n",
       "  </thead>\n",
       "  <tbody>\n",
       "    <tr>\n",
       "      <th>0</th>\n",
       "      <td>Anglia</td>\n",
       "      <td>Romford</td>\n",
       "      <td>SHENFIELD SM(TRACK)</td>\n",
       "      <td>Tr 11</td>\n",
       "      <td>664.000</td>\n",
       "      <td>6611.000</td>\n",
       "      <td>29.000</td>\n",
       "      <td>1</td>\n",
       "      <td>6611.000</td>\n",
       "      <td>0.034</td>\n",
       "    </tr>\n",
       "    <tr>\n",
       "      <th>1</th>\n",
       "      <td>East Coast</td>\n",
       "      <td>Hitchin</td>\n",
       "      <td>FINSBURY PARK SM(TRACK)</td>\n",
       "      <td>Tr 01.02</td>\n",
       "      <td>6.000</td>\n",
       "      <td>11134.000</td>\n",
       "      <td>33.000</td>\n",
       "      <td>1</td>\n",
       "      <td>11134.000</td>\n",
       "      <td>0.030</td>\n",
       "    </tr>\n",
       "    <tr>\n",
       "      <th>2</th>\n",
       "      <td>East Coast</td>\n",
       "      <td>Hitchin</td>\n",
       "      <td>HITCHIN SM(SIGNALS)</td>\n",
       "      <td>Sig 14</td>\n",
       "      <td>126.000</td>\n",
       "      <td>2170.000</td>\n",
       "      <td>31.000</td>\n",
       "      <td>1</td>\n",
       "      <td>2170.000</td>\n",
       "      <td>0.032</td>\n",
       "    </tr>\n",
       "  </tbody>\n",
       "</table>\n",
       "</div>"
      ],
      "text/plain": [
       "        Route Master Delivery Unit           Work Group Set Competence Alias  \\\n",
       "0      Anglia              Romford      SHENFIELD SM(TRACK)            Tr 11   \n",
       "1  East Coast              Hitchin  FINSBURY PARK SM(TRACK)         Tr 01.02   \n",
       "2  East Coast              Hitchin      HITCHIN SM(SIGNALS)           Sig 14   \n",
       "\n",
       "   2.1 Delays in minutes attributable to retrained competences  \\\n",
       "0                                            664.000             \n",
       "1                                              6.000             \n",
       "2                                            126.000             \n",
       "\n",
       "   1.1 Time spend of fixing assets failures that led to a delay  Team Size  \\\n",
       "0                                           6611.000                29.000   \n",
       "1                                          11134.000                33.000   \n",
       "2                                           2170.000                31.000   \n",
       "\n",
       "   1.2 Number of incidents attributable to retrained competences  \\\n",
       "0                                                  1               \n",
       "1                                                  1               \n",
       "2                                                  1               \n",
       "\n",
       "   1.3 Delay time per incident attributable to retrained competences  \\\n",
       "0                                           6611.000                   \n",
       "1                                          11134.000                   \n",
       "2                                           2170.000                   \n",
       "\n",
       "   1.4 Number of incidents attributable to retrained competences per team member  \n",
       "0                                              0.034                              \n",
       "1                                              0.030                              \n",
       "2                                              0.032                              "
      ]
     },
     "execution_count": 16,
     "metadata": {},
     "output_type": "execute_result"
    }
   ],
   "source": [
    "# group by workgroupset and sum quantity recieved \n",
    "tmp2 = FMS_WGS_comp_team_rec.groupby(['routelookup','masterdeliveryunit','workgroupset','competencealias'])[['incidentdelay','timetorectify']].sum().reset_index()\n",
    "tmp3 = FMS_WGS_comp_team_rec.groupby(['workgroupset','competencealias'])['teamsize'].max().reset_index()\n",
    "tmp4 = FMS_WGS_comp_team_rec.groupby(['workgroupset','competencealias'])[['incidentdelay']].count().reset_index()\n",
    "tmp4 = tmp4.rename(columns={'incidentdelay':'No. of incidents'})\n",
    "\n",
    "\n",
    "fms_final = pd.merge(tmp2,tmp3,left_on=['workgroupset','competencealias'],right_on=['workgroupset','competencealias'])\n",
    "fms_final = pd.merge(fms_final,tmp4,left_on=['workgroupset','competencealias'],right_on=['workgroupset','competencealias'])\n",
    "fms_final['Delay time per incident'] = fms_final['timetorectify']/fms_final['No. of incidents']\n",
    "fms_final['No. of incident per team member'] = fms_final['No. of incidents']/fms_final['teamsize']\n",
    "\n",
    "fms_final = fms_final.rename(columns={'workgroupset':'Work Group Set',\n",
    "                                        'routelookup':'Route',\n",
    "                                        'masterdeliveryunit':'Master Delivery Unit',\n",
    "                                        'competencealias':'Competence Alias',\n",
    "                                        'teamsize':'Team Size',\n",
    "                                        'timetorectify':'1.1 Time spend of fixing assets failures that led to a delay',\n",
    "                                        'No. of incidents':'1.2 Number of incidents attributable to retrained competences',\n",
    "                                        'Delay time per incident':'1.3 Delay time per incident attributable to retrained competences',\n",
    "                                        'No. of incident per team member':'1.4 Number of incidents attributable to retrained competences per team member',\n",
    "                                        'incidentdelay':'2.1 Delays in minutes attributable to retrained competences'})\n",
    "\n",
    "fms_final.head(3)"
   ]
  },
  {
   "cell_type": "code",
   "execution_count": 17,
   "metadata": {},
   "outputs": [
    {
     "data": {
      "text/html": [
       "<div>\n",
       "<style scoped>\n",
       "    .dataframe tbody tr th:only-of-type {\n",
       "        vertical-align: middle;\n",
       "    }\n",
       "\n",
       "    .dataframe tbody tr th {\n",
       "        vertical-align: top;\n",
       "    }\n",
       "\n",
       "    .dataframe thead th {\n",
       "        text-align: right;\n",
       "    }\n",
       "</style>\n",
       "<table border=\"1\" class=\"dataframe\">\n",
       "  <thead>\n",
       "    <tr style=\"text-align: right;\">\n",
       "      <th></th>\n",
       "      <th>Route</th>\n",
       "      <th>Master Delivery Unit</th>\n",
       "      <th>Work Group Set</th>\n",
       "      <th>Competence Alias</th>\n",
       "      <th>Team Size</th>\n",
       "      <th>KPIs</th>\n",
       "      <th>KPI value</th>\n",
       "    </tr>\n",
       "  </thead>\n",
       "  <tbody>\n",
       "    <tr>\n",
       "      <th>0</th>\n",
       "      <td>Anglia</td>\n",
       "      <td>Romford</td>\n",
       "      <td>SHENFIELD SM(TRACK)</td>\n",
       "      <td>Tr 11</td>\n",
       "      <td>29.000</td>\n",
       "      <td>2.1 Delays in minutes attributable to retraine...</td>\n",
       "      <td>664.000</td>\n",
       "    </tr>\n",
       "    <tr>\n",
       "      <th>1</th>\n",
       "      <td>East Coast</td>\n",
       "      <td>Hitchin</td>\n",
       "      <td>FINSBURY PARK SM(TRACK)</td>\n",
       "      <td>Tr 01.02</td>\n",
       "      <td>33.000</td>\n",
       "      <td>2.1 Delays in minutes attributable to retraine...</td>\n",
       "      <td>6.000</td>\n",
       "    </tr>\n",
       "    <tr>\n",
       "      <th>2</th>\n",
       "      <td>East Coast</td>\n",
       "      <td>Hitchin</td>\n",
       "      <td>HITCHIN SM(SIGNALS)</td>\n",
       "      <td>Sig 14</td>\n",
       "      <td>31.000</td>\n",
       "      <td>2.1 Delays in minutes attributable to retraine...</td>\n",
       "      <td>126.000</td>\n",
       "    </tr>\n",
       "    <tr>\n",
       "      <th>3</th>\n",
       "      <td>East Coast</td>\n",
       "      <td>Hitchin</td>\n",
       "      <td>HITCHIN SM(TRACK)</td>\n",
       "      <td>Tr 11</td>\n",
       "      <td>32.000</td>\n",
       "      <td>2.1 Delays in minutes attributable to retraine...</td>\n",
       "      <td>11.000</td>\n",
       "    </tr>\n",
       "    <tr>\n",
       "      <th>4</th>\n",
       "      <td>East Coast</td>\n",
       "      <td>Newcastle</td>\n",
       "      <td>NEWCASTLE SM(SIGNALS)</td>\n",
       "      <td>Sig 19</td>\n",
       "      <td>25.000</td>\n",
       "      <td>2.1 Delays in minutes attributable to retraine...</td>\n",
       "      <td>21.000</td>\n",
       "    </tr>\n",
       "    <tr>\n",
       "      <th>...</th>\n",
       "      <td>...</td>\n",
       "      <td>...</td>\n",
       "      <td>...</td>\n",
       "      <td>...</td>\n",
       "      <td>...</td>\n",
       "      <td>...</td>\n",
       "      <td>...</td>\n",
       "    </tr>\n",
       "    <tr>\n",
       "      <th>180</th>\n",
       "      <td>Western</td>\n",
       "      <td>Bristol (Central)</td>\n",
       "      <td>BRISTOL TM SM(SIGNALS)</td>\n",
       "      <td>Sig 19</td>\n",
       "      <td>33.000</td>\n",
       "      <td>1.4 Number of incidents attributable to retrai...</td>\n",
       "      <td>0.030</td>\n",
       "    </tr>\n",
       "    <tr>\n",
       "      <th>181</th>\n",
       "      <td>Western</td>\n",
       "      <td>Bristol (Central)</td>\n",
       "      <td>DIDCOT SM(SIGNALS)</td>\n",
       "      <td>Sig 06</td>\n",
       "      <td>21.000</td>\n",
       "      <td>1.4 Number of incidents attributable to retrai...</td>\n",
       "      <td>0.429</td>\n",
       "    </tr>\n",
       "    <tr>\n",
       "      <th>182</th>\n",
       "      <td>Western</td>\n",
       "      <td>Bristol (Central)</td>\n",
       "      <td>DIDCOT SM(TRACK)</td>\n",
       "      <td>Tr 11</td>\n",
       "      <td>25.000</td>\n",
       "      <td>1.4 Number of incidents attributable to retrai...</td>\n",
       "      <td>0.040</td>\n",
       "    </tr>\n",
       "    <tr>\n",
       "      <th>183</th>\n",
       "      <td>Western</td>\n",
       "      <td>Reading (East)</td>\n",
       "      <td>READING SM(SIGNALS)</td>\n",
       "      <td>Sig 06</td>\n",
       "      <td>19.000</td>\n",
       "      <td>1.4 Number of incidents attributable to retrai...</td>\n",
       "      <td>0.421</td>\n",
       "    </tr>\n",
       "    <tr>\n",
       "      <th>184</th>\n",
       "      <td>Western</td>\n",
       "      <td>Reading (East)</td>\n",
       "      <td>READING SM(TRACK)</td>\n",
       "      <td>Tr 01.02</td>\n",
       "      <td>33.000</td>\n",
       "      <td>1.4 Number of incidents attributable to retrai...</td>\n",
       "      <td>0.152</td>\n",
       "    </tr>\n",
       "  </tbody>\n",
       "</table>\n",
       "<p>185 rows × 7 columns</p>\n",
       "</div>"
      ],
      "text/plain": [
       "          Route Master Delivery Unit           Work Group Set  \\\n",
       "0        Anglia              Romford      SHENFIELD SM(TRACK)   \n",
       "1    East Coast              Hitchin  FINSBURY PARK SM(TRACK)   \n",
       "2    East Coast              Hitchin      HITCHIN SM(SIGNALS)   \n",
       "3    East Coast              Hitchin        HITCHIN SM(TRACK)   \n",
       "4    East Coast            Newcastle    NEWCASTLE SM(SIGNALS)   \n",
       "..          ...                  ...                      ...   \n",
       "180     Western    Bristol (Central)   BRISTOL TM SM(SIGNALS)   \n",
       "181     Western    Bristol (Central)       DIDCOT SM(SIGNALS)   \n",
       "182     Western    Bristol (Central)         DIDCOT SM(TRACK)   \n",
       "183     Western       Reading (East)      READING SM(SIGNALS)   \n",
       "184     Western       Reading (East)        READING SM(TRACK)   \n",
       "\n",
       "    Competence Alias  Team Size  \\\n",
       "0              Tr 11     29.000   \n",
       "1           Tr 01.02     33.000   \n",
       "2             Sig 14     31.000   \n",
       "3              Tr 11     32.000   \n",
       "4             Sig 19     25.000   \n",
       "..               ...        ...   \n",
       "180           Sig 19     33.000   \n",
       "181           Sig 06     21.000   \n",
       "182            Tr 11     25.000   \n",
       "183           Sig 06     19.000   \n",
       "184         Tr 01.02     33.000   \n",
       "\n",
       "                                                  KPIs  KPI value  \n",
       "0    2.1 Delays in minutes attributable to retraine...    664.000  \n",
       "1    2.1 Delays in minutes attributable to retraine...      6.000  \n",
       "2    2.1 Delays in minutes attributable to retraine...    126.000  \n",
       "3    2.1 Delays in minutes attributable to retraine...     11.000  \n",
       "4    2.1 Delays in minutes attributable to retraine...     21.000  \n",
       "..                                                 ...        ...  \n",
       "180  1.4 Number of incidents attributable to retrai...      0.030  \n",
       "181  1.4 Number of incidents attributable to retrai...      0.429  \n",
       "182  1.4 Number of incidents attributable to retrai...      0.040  \n",
       "183  1.4 Number of incidents attributable to retrai...      0.421  \n",
       "184  1.4 Number of incidents attributable to retrai...      0.152  \n",
       "\n",
       "[185 rows x 7 columns]"
      ]
     },
     "execution_count": 17,
     "metadata": {},
     "output_type": "execute_result"
    }
   ],
   "source": [
    "# The format needs to change to match what Kabita requires for creating the pipelines in SQL \n",
    "fms_final_SQL = pd.melt(fms_final, id_vars=['Route','Master Delivery Unit', 'Work Group Set','Competence Alias','Team Size'], var_name='KPIs', value_name='KPI value')\n",
    "fms_final_SQL"
   ]
  },
  {
   "cell_type": "code",
   "execution_count": 18,
   "metadata": {},
   "outputs": [],
   "source": [
    "# save output as csv and upload to azure blob storage containers\n",
    "save_outputs_azure_blobs(fms_final_SQL,output_file_name,blob_service_client_instance_devp)\n",
    "save_outputs_azure_blobs(fms_final_SQL,output_file_name,blob_service_client_instance_test)\n",
    "save_outputs_azure_blobs(fms_final_SQL,output_file_name,blob_service_client_instance_prod)\n",
    "save_outputs_azure_blobs(fms_final_SQL,output_file_name,blob_service_client_instance_staging)"
   ]
  },
  {
   "cell_type": "markdown",
   "metadata": {},
   "source": [
    "#### 6.B. Summary of KPIs"
   ]
  },
  {
   "cell_type": "code",
   "execution_count": 19,
   "metadata": {},
   "outputs": [
    {
     "data": {
      "text/html": [
       "<div>\n",
       "<style scoped>\n",
       "    .dataframe tbody tr th:only-of-type {\n",
       "        vertical-align: middle;\n",
       "    }\n",
       "\n",
       "    .dataframe tbody tr th {\n",
       "        vertical-align: top;\n",
       "    }\n",
       "\n",
       "    .dataframe thead th {\n",
       "        text-align: right;\n",
       "    }\n",
       "</style>\n",
       "<table border=\"1\" class=\"dataframe\">\n",
       "  <thead>\n",
       "    <tr style=\"text-align: right;\">\n",
       "      <th></th>\n",
       "      <th>KPIs</th>\n",
       "      <th>Pre-intervention (2019/20 P01-P02)</th>\n",
       "    </tr>\n",
       "  </thead>\n",
       "  <tbody>\n",
       "    <tr>\n",
       "      <th>0</th>\n",
       "      <td>No. of WGS in FMS recommendations</td>\n",
       "      <td>89.000</td>\n",
       "    </tr>\n",
       "    <tr>\n",
       "      <th>1</th>\n",
       "      <td>No. of WGS found in FMS data</td>\n",
       "      <td>32.000</td>\n",
       "    </tr>\n",
       "    <tr>\n",
       "      <th>2</th>\n",
       "      <td>1.1 Total time spend of fixing assets failures...</td>\n",
       "      <td>6023767.000</td>\n",
       "    </tr>\n",
       "    <tr>\n",
       "      <th>3</th>\n",
       "      <td>1.2 Total number of incidents attributable to ...</td>\n",
       "      <td>107.000</td>\n",
       "    </tr>\n",
       "    <tr>\n",
       "      <th>4</th>\n",
       "      <td>1.3 Average delay time per incident attributab...</td>\n",
       "      <td>26914.556</td>\n",
       "    </tr>\n",
       "    <tr>\n",
       "      <th>5</th>\n",
       "      <td>1.4 Number of incidents attributable to retrai...</td>\n",
       "      <td>4.143</td>\n",
       "    </tr>\n",
       "    <tr>\n",
       "      <th>6</th>\n",
       "      <td>2.1 Total delays in minutes attributable to re...</td>\n",
       "      <td>19512.500</td>\n",
       "    </tr>\n",
       "  </tbody>\n",
       "</table>\n",
       "</div>"
      ],
      "text/plain": [
       "                                                KPIs  \\\n",
       "0                  No. of WGS in FMS recommendations   \n",
       "1                       No. of WGS found in FMS data   \n",
       "2  1.1 Total time spend of fixing assets failures...   \n",
       "3  1.2 Total number of incidents attributable to ...   \n",
       "4  1.3 Average delay time per incident attributab...   \n",
       "5  1.4 Number of incidents attributable to retrai...   \n",
       "6  2.1 Total delays in minutes attributable to re...   \n",
       "\n",
       "   Pre-intervention (2019/20 P01-P02)  \n",
       "0                              89.000  \n",
       "1                              32.000  \n",
       "2                         6023767.000  \n",
       "3                             107.000  \n",
       "4                           26914.556  \n",
       "5                               4.143  \n",
       "6                           19512.500  "
      ]
     },
     "execution_count": 19,
     "metadata": {},
     "output_type": "execute_result"
    }
   ],
   "source": [
    "data={'KPIs':['No. of WGS in FMS recommendations',\n",
    "              'No. of WGS found in FMS data',\n",
    "              '1.1 Total time spend of fixing assets failures that led to a delay',\n",
    "              '1.2 Total number of incidents attributable to retrained competences',\n",
    "              '1.3 Average delay time per incident attributable to retrained competences',\n",
    "              '1.4 Number of incidents attributable to retrained competences per team member',\n",
    "              '2.1 Total delays in minutes attributable to retrained competences'],\n",
    "              column_name:[fms_trainning_demand['workgroupset'].nunique(),\n",
    "                                  FMS_WGS_comp_team_rec['workgroupset'].nunique(),\n",
    "                                  fms_final['1.1 Time spend of fixing assets failures that led to a delay'].sum(), \n",
    "                                  fms_final['1.2 Number of incidents attributable to retrained competences'].sum(), \n",
    "                                  fms_final['1.3 Delay time per incident attributable to retrained competences'].mean(), \n",
    "                                  fms_final['1.4 Number of incidents attributable to retrained competences per team member'].sum(),\n",
    "                                  fms_final['2.1 Delays in minutes attributable to retrained competences'].sum()]}\n",
    "\n",
    "FMS_KPIs=pd.DataFrame(data)\n",
    "FMS_KPIs"
   ]
  },
  {
   "cell_type": "code",
   "execution_count": 20,
   "metadata": {},
   "outputs": [],
   "source": [
    "# Read output to csv\n",
    "FMS_KPIs.to_csv('BT_FMS_KPIs_TD_PrePost_Summary.csv',index=False)"
   ]
  },
  {
   "cell_type": "markdown",
   "metadata": {},
   "source": [
    "#### 6.C. Data info"
   ]
  },
  {
   "cell_type": "code",
   "execution_count": 21,
   "metadata": {},
   "outputs": [
    {
     "data": {
      "text/html": [
       "<div>\n",
       "<style scoped>\n",
       "    .dataframe tbody tr th:only-of-type {\n",
       "        vertical-align: middle;\n",
       "    }\n",
       "\n",
       "    .dataframe tbody tr th {\n",
       "        vertical-align: top;\n",
       "    }\n",
       "\n",
       "    .dataframe thead th {\n",
       "        text-align: right;\n",
       "    }\n",
       "</style>\n",
       "<table border=\"1\" class=\"dataframe\">\n",
       "  <thead>\n",
       "    <tr style=\"text-align: right;\">\n",
       "      <th></th>\n",
       "      <th></th>\n",
       "      <th>WGS</th>\n",
       "      <th>length</th>\n",
       "    </tr>\n",
       "  </thead>\n",
       "  <tbody>\n",
       "    <tr>\n",
       "      <th>0</th>\n",
       "      <td>FMSmatched</td>\n",
       "      <td>-</td>\n",
       "      <td>1085599</td>\n",
       "    </tr>\n",
       "    <tr>\n",
       "      <th>1</th>\n",
       "      <td>asset table</td>\n",
       "      <td>432</td>\n",
       "      <td>1893194</td>\n",
       "    </tr>\n",
       "    <tr>\n",
       "      <th>2</th>\n",
       "      <td>competences</td>\n",
       "      <td>-</td>\n",
       "      <td>6054</td>\n",
       "    </tr>\n",
       "    <tr>\n",
       "      <th>3</th>\n",
       "      <td>teamsize</td>\n",
       "      <td>1045</td>\n",
       "      <td>1045</td>\n",
       "    </tr>\n",
       "    <tr>\n",
       "      <th>4</th>\n",
       "      <td>Trainning delivered and recommendations</td>\n",
       "      <td>89</td>\n",
       "      <td>175</td>\n",
       "    </tr>\n",
       "    <tr>\n",
       "      <th>5</th>\n",
       "      <td>FMS matched + asset table</td>\n",
       "      <td>418</td>\n",
       "      <td>553362</td>\n",
       "    </tr>\n",
       "    <tr>\n",
       "      <th>6</th>\n",
       "      <td>FMS matched + asset table time</td>\n",
       "      <td>401</td>\n",
       "      <td>16428</td>\n",
       "    </tr>\n",
       "    <tr>\n",
       "      <th>7</th>\n",
       "      <td>FMS matched + asset table time + competences</td>\n",
       "      <td>214</td>\n",
       "      <td>2221</td>\n",
       "    </tr>\n",
       "    <tr>\n",
       "      <th>8</th>\n",
       "      <td>FMS matched + asset table time + competences +...</td>\n",
       "      <td>196</td>\n",
       "      <td>2110</td>\n",
       "    </tr>\n",
       "    <tr>\n",
       "      <th>9</th>\n",
       "      <td>FMS matched + asset table time + competences +...</td>\n",
       "      <td>32</td>\n",
       "      <td>107</td>\n",
       "    </tr>\n",
       "  </tbody>\n",
       "</table>\n",
       "</div>"
      ],
      "text/plain": [
       "                                                       WGS   length\n",
       "0                                         FMSmatched     -  1085599\n",
       "1                                        asset table   432  1893194\n",
       "2                                        competences     -     6054\n",
       "3                                           teamsize  1045     1045\n",
       "4            Trainning delivered and recommendations    89      175\n",
       "5                          FMS matched + asset table   418   553362\n",
       "6                     FMS matched + asset table time   401    16428\n",
       "7       FMS matched + asset table time + competences   214     2221\n",
       "8  FMS matched + asset table time + competences +...   196     2110\n",
       "9  FMS matched + asset table time + competences +...    32      107"
      ]
     },
     "execution_count": 21,
     "metadata": {},
     "output_type": "execute_result"
    }
   ],
   "source": [
    "data={'':['FMSmatched',\n",
    "              'asset table',\n",
    "              'competences',\n",
    "              'teamsize',\n",
    "              'Trainning delivered and recommendations',\n",
    "              'FMS matched + asset table',\n",
    "              'FMS matched + asset table time',\n",
    "              'FMS matched + asset table time + competences',\n",
    "              'FMS matched + asset table time + competences + teamsize',\n",
    "              'FMS matched + asset table time + competences + teamsize + trainning delivered'],\n",
    "              'WGS':['-',\n",
    "              asset['section_manager'].nunique(),\n",
    "              '-',\n",
    "              comp_teamsize['workgroupset'].nunique(),\n",
    "              fms_trainning_demand['workgroupset'].nunique(),\n",
    "              fms_wgs['workgroupset'].nunique(),\n",
    "              fms_wgs_time['workgroupset'].nunique(),\n",
    "              FMS_WGS_comp['workgroupset'].nunique(),\n",
    "              FMS_WGS_comp_team['workgroupset'].nunique(),\n",
    "              FMS_WGS_comp_team_rec['workgroupset'].nunique()],              \n",
    "              'length':[len(fms),\n",
    "              len(asset['section_manager']),\n",
    "              len(comp_faults),\n",
    "              len(comp_teamsize['workgroupset']),\n",
    "              len(fms_trainning_demand['workgroupset']),\n",
    "              len(fms_wgs['workgroupset']),\n",
    "              len(fms_wgs_time['workgroupset']),\n",
    "              len(FMS_WGS_comp['workgroupset']),\n",
    "              len(FMS_WGS_comp_team['workgroupset']),\n",
    "              len(FMS_WGS_comp_team_rec['workgroupset'])]}\n",
    "\n",
    "FMS_data_info=pd.DataFrame(data)\n",
    "FMS_data_info"
   ]
  }
 ],
 "metadata": {
  "kernelspec": {
   "display_name": "Python 3",
   "language": "python",
   "name": "python3"
  },
  "language_info": {
   "codemirror_mode": {
    "name": "ipython",
    "version": 3
   },
   "file_extension": ".py",
   "mimetype": "text/x-python",
   "name": "python",
   "nbconvert_exporter": "python",
   "pygments_lexer": "ipython3",
   "version": "3.8.8"
  },
  "vscode": {
   "interpreter": {
    "hash": "db48200f30cd3676e4593a3cdb043b1791a744e8ef38beb98db8b8f9b8797541"
   }
  }
 },
 "nbformat": 4,
 "nbformat_minor": 4
}
