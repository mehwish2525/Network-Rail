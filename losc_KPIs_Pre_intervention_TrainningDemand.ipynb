{
 "cells": [
  {
   "cell_type": "markdown",
   "metadata": {},
   "source": [
    "## How to run the script"
   ]
  },
  {
   "cell_type": "markdown",
   "metadata": {},
   "source": [
    "1. Please run the pre intervention script before the post intervention script\n",
    "2. Define what time point to observe benefit tracking in select_periods"
   ]
  },
  {
   "cell_type": "code",
   "execution_count": 1,
   "metadata": {},
   "outputs": [],
   "source": [
    "# time point \n",
    "######### change these numbers to what you want \n",
    "select_year = '2019-2020'\n",
    "selec_period_final = 4\n",
    "######### change these numbers to what you want \n",
    "\n",
    "#file names need to be in the proper naming conventions \n"
   ]
  },
  {
   "cell_type": "code",
   "execution_count": 2,
   "metadata": {},
   "outputs": [],
   "source": [
    "# define names \n",
    "\n",
    "select_periods = []\n",
    "period_list=[]\n",
    "for i in range(1,selec_period_final+1):\n",
    "    tmp = 'P0{pp}'.format(pp=i)\n",
    "    period_list.append(tmp)\n",
    "    tmp2 = '{yy} {pp}'.format(yy=select_year,pp=tmp)\n",
    "    select_periods.append(tmp2)\n",
    "\n",
    "output_file_name = 'BT_LOSC_KPIs_TD_Pre_{yy}_{pp1}-{pp2}.csv'.format(yy = select_year, pp1 = period_list[0],pp2 = period_list[-1])\n",
    "column_name = 'Pre-intervention ({yy} {pp1}-{pp2})'.format(yy = select_year, pp1 = period_list[0],pp2 = period_list[-1])"
   ]
  },
  {
   "cell_type": "markdown",
   "metadata": {},
   "source": [
    "## Purpose of script\n",
    "\n",
    "The aim of this script is to show a reduction in spending on LOSCs through delivering more jobs using in-house resources using the strategic framework for benefit and assessment stratergy. This will done in two steps:\n",
    "\n",
    "First stage indicators:\n",
    "1. Total LOSC hiring measured in hours/ days.\n",
    "1. LOSC hiring expressed as equivalent Full Time Employees (FTE).\n",
    "1. Total teams’ headcounts including in-house workers and equivalent LOSC FTE. \n",
    "1. LOSC FTE as a proportion of the total team’s headcount.  \n",
    "1. Number of completed jobs and required jobs.\n",
    "\n",
    "Second stage indicators:\n",
    "1. Total LOSC spending\n",
    "\n",
    "All this will be answered for pre and post intervention with this script focusing on PRE-intervention data. The date of intervention is taken as September 2021.\n",
    "\n",
    "1. Define connections to SQL tables and Azure Storage blobs\n",
    "2. Pre-porcess the LOSC data\n",
    "3. Derive LOSC roles from \"Item Description\" column.\n",
    "4. Merge to WGS data\n",
    "5. Merge LOSC with Competences held\n",
    "6. Team Size\n",
    "7. Add LOSC recommendations taken up to date to the data\n",
    "8. LOSC KPIs"
   ]
  },
  {
   "cell_type": "markdown",
   "metadata": {},
   "source": [
    "## 1. Get all file paths and read files"
   ]
  },
  {
   "cell_type": "markdown",
   "metadata": {},
   "source": [
    "#### 1.A. Import relavent libraries"
   ]
  },
  {
   "cell_type": "code",
   "execution_count": 3,
   "metadata": {},
   "outputs": [],
   "source": [
    "import pandas as pd\n",
    "pd.set_option('display.float_format', lambda x: '%.3f' % x) # Supress scientific notation\n",
    "import numpy as np\n",
    "from azure.storage.blob import BlobServiceClient\n",
    "import os\n",
    "import pyodbc\n",
    "from io import StringIO, BytesIO\n",
    "import io"
   ]
  },
  {
   "cell_type": "markdown",
   "metadata": {},
   "source": [
    "#### 1.B. Define connections to SQL tables and Azure Storage blobs"
   ]
  },
  {
   "cell_type": "code",
   "execution_count": 4,
   "metadata": {},
   "outputs": [],
   "source": [
    "# Define the connection to SQL database\n",
    "#conn = pyodbc.connect( # SQL server\n",
    "                       # name of SQL data base\n",
    "                        # UID =\n",
    "                       # Password\n",
    "#                      ) # databasename\n",
    "\n",
    "# To connect to Azure devp envirnoment                        \n",
    "#STORAGEACCOUNTURL= ''\n",
    "#STORAGEACCOUNTKEY= ''\n",
    "#CONTAINERNAME= ''\n",
    "#blob_service_client_instance_devp = BlobServiceClient(account_url=STORAGEACCOUNTURL, credential=STORAGEACCOUNTKEY)\n",
    "\n",
    "# To connect to Azure test envirnoment                        \n",
    "#STORAGEACCOUNTURL= ''\n",
    "#STORAGEACCOUNTKEY= ''\n",
    "#CONTAINERNAME= ''\n",
    "#blob_service_client_instance_devp = BlobServiceClient(account_url=STORAGEACCOUNTURL, credential=STORAGEACCOUNTKEY)\n",
    "\n",
    "# To connect to Azure staging envirnoment                        \n",
    "#STORAGEACCOUNTURL= ''\n",
    "#STORAGEACCOUNTKEY= ''\n",
    "#CONTAINERNAME= ''\n",
    "#blob_service_client_instance_devp = BlobServiceClient(account_url=STORAGEACCOUNTURL, credential=STORAGEACCOUNTKEY)\n",
    "\n",
    "# To connect to Azure prod envirnoment                        \n",
    "#STORAGEACCOUNTURL= ''\n",
    "#STORAGEACCOUNTKEY= ''\n",
    "#CONTAINERNAME= ''\n",
    "#blob_service_client_instance_devp = BlobServiceClient(account_url=STORAGEACCOUNTURL, credential=STORAGEACCOUNTKEY)\n"
   ]
  },
  {
   "cell_type": "markdown",
   "metadata": {},
   "source": [
    "#### 1.C Define all the Functions used in the script"
   ]
  },
  {
   "cell_type": "code",
   "execution_count": 13,
   "metadata": {},
   "outputs": [],
   "source": [
    "# Define a funtion to read csv files directly from azure data storage\n",
    "def download_csv(BLOBNAME,dtype_var):\n",
    "    blob_client_instance = blob_service_client_instance_devp.get_blob_client(CONTAINERNAME, BLOBNAME, snapshot=None)\n",
    "    blob_data = blob_client_instance.download_blob()\n",
    "    with BytesIO() as f:\n",
    "        blob_data.readinto(f)\n",
    "        f.seek(0)\n",
    "        data = pd.read_csv(f,dtype=dtype_var)   \n",
    "    return data\n",
    "\n",
    "# Define a funtion to read excel files directly from azure data storage\n",
    "def download_excel(BLOBNAME,dtype_var):\n",
    "    blob_client_instance = blob_service_client_instance_devp.get_blob_client(CONTAINERNAME, BLOBNAME, snapshot=None)\n",
    "    blob_data = blob_client_instance.download_blob()\n",
    "    with BytesIO() as f:\n",
    "        blob_data.readinto(f)\n",
    "        f.seek(0)\n",
    "        data = pd.read_excel(f,dtype=dtype_var)   \n",
    "    return data\n",
    "    \n",
    "# Rename columns\n",
    "def rename_column(table_name):\n",
    "    table_name.columns = table_name.columns.str.replace(' ', '')\n",
    "    table_name.columns = table_name.columns.str.lower()\n",
    "\n",
    "# Save csv files and upload to azure blob storage\n",
    "def save_outputs_azure_blobs(output_name1,output_name2,azure_environment):\n",
    "    output_name1.to_csv(output_name2, index = False)\n",
    "    # Create a blob client using the local file name as the name for the blob\n",
    "    blob_client = azure_environment.get_blob_client(container='output', blob='static/benefitTracking/LOSC/{tmp2}'.format(tmp2=output_name2))\n",
    "    # Upload the created file\n",
    "    with open(output_name2, \"rb\") as data:\n",
    "        blob_client.upload_blob(data,overwrite=True)"
   ]
  },
  {
   "cell_type": "markdown",
   "metadata": {},
   "source": [
    "#### 1.D Read the paths to all files/download blobs/read SQL tables"
   ]
  },
  {
   "cell_type": "code",
   "execution_count": 6,
   "metadata": {},
   "outputs": [],
   "source": [
    "# LOSC1 (AZURE BLOB)\n",
    "losc1=  download_csv('static/benefitsBaseline/LOSCMaint/COOM PO Line Report  Baseline (Maint, WD, Ops).csv',str)\n",
    "rename_column(losc1)\n",
    "\n",
    "# LOSC2 (AZURE BLOB)\n",
    "losc2=  download_csv('static/benefitsBaseline/LOSC/COOM PO Line Report Baseline.csv',str)\n",
    "rename_column(losc2)\n",
    "\n",
    "# LOSC roles mapping (SQL)\n",
    "losc_roles = pd.read_sql_query('''select * from [dbo].[LOSCRolesMapping]''', conn)\n",
    "rename_column(losc_roles)\n",
    "\n",
    "# OrgPlus (AZURE BLOB)\n",
    "orgplus=  download_excel('static/benefitsBaseline/orgPlus/OrgPlus Baseline.xlsx',None)\n",
    "rename_column(orgplus)\n",
    "\n",
    "# WGS (SQL)\n",
    "wgs = pd.read_sql_query('''select * from [dbo].[workgroupsetBaseline]''', conn)\n",
    "rename_column(wgs)\n",
    "\n",
    "# LOSC roles to competence mapping (AZURE BLOB)\n",
    "losc_competences = download_excel('static/benefitsBaseline/LOSCRoles/LOSC Roles - Competence Mapping Baseline.xlsx',None)\n",
    "rename_column(losc_competences)\n",
    "\n",
    "# Team Size (AZURE BLOB)\n",
    "comp_teamsize =  download_csv('static/benefitsBaseline/teamSize/team_size_PreInter.csv',None)\n",
    "rename_column(comp_teamsize)\n",
    "\n",
    "# losc recomendation with trainning demand \n",
    "losc_trainning_demand =  download_csv('static/benefitsBaseline/trainning_delivered_recommendations/losc_recomen_course_trainning.csv',None)\n",
    "rename_column(losc_trainning_demand)"
   ]
  },
  {
   "cell_type": "markdown",
   "metadata": {},
   "source": [
    "## 2. Pre-process  LOSC data\n",
    "\n",
    "2. Read and Pre-process  LOSC data\n",
    "    1. Merge the two LOSC data sets and drop duplicates\n",
    "    2. Drop rows which don't have a cost centre assigned to them\n",
    "    3. Remove data where \"Purchase Approval Status\" column is COMPOSING and not APPROVED as these are assumed to still be not finalised.\n",
    "    4. Remove data where \"Cancelled Flag\" is CANCELLED as these are assumed to have been cancelled.\n",
    "    5. Convert numeric data columns to number format from strings\n",
    "    6. Keep only the records where the measurement type is hours\n",
    "    7. Only keep data from the selected periods and year"
   ]
  },
  {
   "cell_type": "markdown",
   "metadata": {},
   "source": [
    "#### 2.C. Pre process data"
   ]
  },
  {
   "cell_type": "code",
   "execution_count": 7,
   "metadata": {},
   "outputs": [
    {
     "name": "stdout",
     "output_type": "stream",
     "text": [
      "['APPROVED' 'COMPOSING' 'PENDING APPROVAL']\n",
      "['APPROVED']\n",
      "137759\n",
      "[nan 'CANCELLED']\n",
      "[nan]\n"
     ]
    },
    {
     "data": {
      "text/plain": [
       "121699"
      ]
     },
     "execution_count": 7,
     "metadata": {},
     "output_type": "execute_result"
    }
   ],
   "source": [
    "# Merge the two datasets\n",
    "losc = losc1.append(losc2, ignore_index=True)\n",
    "\n",
    "# Drop duplicate records\n",
    "losc = losc.drop_duplicates().reset_index(drop=True)\n",
    "len(losc)\n",
    "\n",
    "# Keep only non \"COMPOSING\" records\n",
    "print(losc['purchaseapprovalstatus'].unique())\n",
    "losc = losc.loc[losc['purchaseapprovalstatus'] != 'COMPOSING'].reset_index(drop=True)\n",
    "losc = losc.loc[losc['purchaseapprovalstatus'] != 'PENDING APPROVAL'].reset_index(drop=True)\n",
    "print(losc['purchaseapprovalstatus'].unique())\n",
    "print(len(losc))\n",
    "\n",
    "# Keep only non \"CANCELLED\" records\n",
    "print(losc['cancelledflag'].unique())\n",
    "losc = losc.loc[losc['cancelledflag'] != 'CANCELLED'].reset_index(drop=True)\n",
    "#losc = losc.loc[losc['cancelledflag'] != 'NaN'].reset_index(drop=True)\n",
    "print(losc['cancelledflag'].unique())\n",
    "len(losc)\n",
    "\n",
    "# Change dtype of Cost and Quantity columns to number from string\n",
    "losc['receivedamount'] = losc['receivedamount'].astype(float)\n",
    "losc['receivedquantity'] = losc['receivedquantity'].astype(float)\n",
    "\n",
    "# Drop all records apart from where the measurement type is hours\n",
    "losc = losc.loc[~losc['unitmeaslookupcode'].isin(['Each', 'Day', 'Week', 'Mile', 'Day(s)', 'Metres', 'Daily', 'Box', 'Weekly', 'Per', 'Litre', 'Bag', 'Tonne', 'Pack', 'Package'])]\n",
    "len(losc)"
   ]
  },
  {
   "cell_type": "markdown",
   "metadata": {},
   "source": [
    "#### 2.D. Only keep data from 2021-2022 P01, 2021,2022 P02"
   ]
  },
  {
   "cell_type": "code",
   "execution_count": 8,
   "metadata": {},
   "outputs": [
    {
     "name": "stdout",
     "output_type": "stream",
     "text": [
      "2019-2020 P04    3813\n",
      "2019-2020 P03    1273\n",
      "2019-2020 P02     138\n",
      "2019-2020 P01      72\n",
      "Name: startdateandtimeperiod, dtype: int64\n"
     ]
    },
    {
     "data": {
      "text/plain": [
       "5296"
      ]
     },
     "execution_count": 8,
     "metadata": {},
     "output_type": "execute_result"
    }
   ],
   "source": [
    "# Extract Period data\n",
    "losc['Period'] = losc['startdateandtimeperiod'].apply(lambda x: x.split(\" \")[1])\n",
    "\n",
    "# Extract Year data\n",
    "losc['Year'] = losc['startdateandtimeperiod'].apply(lambda x: x.split(\" \")[0]) # gives 2020 - 2021\n",
    "\n",
    "losc_time = losc.loc[losc['startdateandtimeperiod'].isin(select_periods)]\n",
    "print(losc_time['startdateandtimeperiod'].value_counts())\n",
    "len(losc_time)"
   ]
  },
  {
   "cell_type": "markdown",
   "metadata": {},
   "source": [
    "## 3. Only keep competency-based roles"
   ]
  },
  {
   "cell_type": "markdown",
   "metadata": {},
   "source": [
    "#### 3.A. Derive LOSC roles from \"Item Description\" column"
   ]
  },
  {
   "cell_type": "code",
   "execution_count": 9,
   "metadata": {},
   "outputs": [
    {
     "name": "stderr",
     "output_type": "stream",
     "text": [
      "<ipython-input-9-89dde703d10c>:5: SettingWithCopyWarning: \n",
      "A value is trying to be set on a copy of a slice from a DataFrame.\n",
      "Try using .loc[row_indexer,col_indexer] = value instead\n",
      "\n",
      "See the caveats in the documentation: https://pandas.pydata.org/pandas-docs/stable/user_guide/indexing.html#returning-a-view-versus-a-copy\n",
      "  losc_time['roletype'] = 'Unknown'\n",
      "<ipython-input-9-89dde703d10c>:10: SettingWithCopyWarning: \n",
      "A value is trying to be set on a copy of a slice from a DataFrame.\n",
      "Try using .loc[row_indexer,col_indexer] = value instead\n",
      "\n",
      "See the caveats in the documentation: https://pandas.pydata.org/pandas-docs/stable/user_guide/indexing.html#returning-a-view-versus-a-copy\n",
      "  losc_time['roletype'] = losc_time['roletype'].mask(indx, losc_roles[\"roletype\"][i])\n"
     ]
    }
   ],
   "source": [
    "# Rename Role column\n",
    "losc_roles.rename(columns={'roletypeloscdata': 'roletype'}, inplace=True)\n",
    "\n",
    "# Identify role types from the item description column in LOSC data\n",
    "losc_time['roletype'] = 'Unknown'\n",
    "\n",
    "for i in range(0,len(losc_roles['roletype'])):\n",
    "\n",
    "    indx = losc_time['itemdescription'].str.contains(losc_roles[\"roletype\"][i], regex=False, case=False)\n",
    "    losc_time['roletype'] = losc_time['roletype'].mask(indx, losc_roles[\"roletype\"][i])\n"
   ]
  },
  {
   "cell_type": "markdown",
   "metadata": {},
   "source": [
    "#### 3.B. Merge the LOSC data which have the role type column to competences based/generic data"
   ]
  },
  {
   "cell_type": "code",
   "execution_count": 10,
   "metadata": {},
   "outputs": [
    {
     "data": {
      "text/html": [
       "<div>\n",
       "<style scoped>\n",
       "    .dataframe tbody tr th:only-of-type {\n",
       "        vertical-align: middle;\n",
       "    }\n",
       "\n",
       "    .dataframe tbody tr th {\n",
       "        vertical-align: top;\n",
       "    }\n",
       "\n",
       "    .dataframe thead th {\n",
       "        text-align: right;\n",
       "    }\n",
       "</style>\n",
       "<table border=\"1\" class=\"dataframe\">\n",
       "  <thead>\n",
       "    <tr style=\"text-align: right;\">\n",
       "      <th></th>\n",
       "      <th>purchaseordernumber</th>\n",
       "      <th>percentage(%)</th>\n",
       "    </tr>\n",
       "    <tr>\n",
       "      <th>genericcompetencybasedrole</th>\n",
       "      <th></th>\n",
       "      <th></th>\n",
       "    </tr>\n",
       "  </thead>\n",
       "  <tbody>\n",
       "    <tr>\n",
       "      <th>Competency-based</th>\n",
       "      <td>2582</td>\n",
       "      <td>2.100</td>\n",
       "    </tr>\n",
       "    <tr>\n",
       "      <th>Generic</th>\n",
       "      <td>2219</td>\n",
       "      <td>1.800</td>\n",
       "    </tr>\n",
       "    <tr>\n",
       "      <th>Unknown</th>\n",
       "      <td>495</td>\n",
       "      <td>0.400</td>\n",
       "    </tr>\n",
       "  </tbody>\n",
       "</table>\n",
       "</div>"
      ],
      "text/plain": [
       "                            purchaseordernumber  percentage(%)\n",
       "genericcompetencybasedrole                                    \n",
       "Competency-based                           2582          2.100\n",
       "Generic                                    2219          1.800\n",
       "Unknown                                     495          0.400"
      ]
     },
     "execution_count": 10,
     "metadata": {},
     "output_type": "execute_result"
    }
   ],
   "source": [
    "## Link the LOSC data to the role data to get the grouped (cleaned) roles and use these to then link to competences.\n",
    "# Merge dataframes\n",
    "losc_rt = losc_time.merge(losc_roles[['roletype', 'roletypecleaned', 'genericcompetencybasedrole']], how='left', on='roletype')\n",
    "\n",
    "# Fill in unknown roles with Unknown\n",
    "losc_rt['genericcompetencybasedrole'].fillna('Unknown', inplace=True)\n",
    "\n",
    "## Roles are grouped by whether they are competence based or not. Let's see how many competence-based roles there are in the dataset.\n",
    "grouped_losc_stats2 = pd.DataFrame(losc_rt.groupby('genericcompetencybasedrole')['purchaseordernumber'].count())\n",
    "grouped_losc_stats2['percentage(%)'] = np.round((grouped_losc_stats2['purchaseordernumber'] / len(losc)) * 100, 1)\n",
    "grouped_losc_stats2"
   ]
  },
  {
   "cell_type": "markdown",
   "metadata": {},
   "source": [
    "#### 3.C. Only keep competency based roles"
   ]
  },
  {
   "cell_type": "code",
   "execution_count": 11,
   "metadata": {},
   "outputs": [],
   "source": [
    "losc_rt = losc_rt.loc[losc_rt['genericcompetencybasedrole'] == 'Competency-based']\n"
   ]
  },
  {
   "cell_type": "markdown",
   "metadata": {},
   "source": [
    "## 4. Assign LOSC requests to WGS"
   ]
  },
  {
   "cell_type": "markdown",
   "metadata": {},
   "source": [
    "#### 4.A. Merge Work group set and OrgPlus"
   ]
  },
  {
   "cell_type": "code",
   "execution_count": 15,
   "metadata": {},
   "outputs": [
    {
     "data": {
      "text/plain": [
       "1046"
      ]
     },
     "execution_count": 15,
     "metadata": {},
     "output_type": "execute_result"
    }
   ],
   "source": [
    "# drop all duplicates in orgplus first so should have single Parent UPN in orgplus. \n",
    "orgplus = orgplus.drop_duplicates().reset_index(drop=True)\n",
    "orgplus = orgplus.loc[~orgplus['employee_number'].isna()]\n",
    "#wgs['workgroupset'] = wgs['workgroupset'].str.replace(' ','')\n",
    "\n",
    "# Merge Work group set and OrgPlus\n",
    "WGS_OrgPlus = wgs.merge(orgplus[['parent_upn', 'cost_centre']], how='left', left_on='smengineerupn', right_on='parent_upn')\n",
    "\n",
    "# Convert cost centre column to str\n",
    "WGS_OrgPlus['cost_centre'] = WGS_OrgPlus['cost_centre'].astype(str)\n",
    "# remove the .0 from the end of cost center \n",
    "WGS_OrgPlus[\"cost_centre\"] = WGS_OrgPlus[\"cost_centre\"].str.split('.').fillna('[]').str[0]\n",
    "\n",
    "# Remove records where the cost centre code is missing as these can't be joined to a work group set\n",
    "WGS_OrgPlus = WGS_OrgPlus[WGS_OrgPlus['cost_centre'] != 'nan']\n",
    "\n",
    "# Drop duplicates\n",
    "WGS_OrgPlus.drop_duplicates(inplace=True)\n",
    "\n",
    "WGS_OrgPlus['workgroupset'].nunique()"
   ]
  },
  {
   "cell_type": "markdown",
   "metadata": {},
   "source": [
    "#### 4.B. How do we attribute LOSC spend when more than one SM links to the same Cost Centre code?"
   ]
  },
  {
   "cell_type": "code",
   "execution_count": 16,
   "metadata": {},
   "outputs": [
    {
     "name": "stdout",
     "output_type": "stream",
     "text": [
      "1046\n"
     ]
    }
   ],
   "source": [
    "# Get the number of WorkGroup Sets linked to the same cost centre\n",
    "linked_workgroup_sets = pd.DataFrame(WGS_OrgPlus.groupby('cost_centre')['workgroupset'].count())\n",
    "linked_workgroup_sets = linked_workgroup_sets.rename(columns={'workgroupset': 'Work Group Set Counts'}).reset_index()\n",
    "\n",
    "# Link the counts back to the dataset\n",
    "WGS_OrgPlus_cnt = WGS_OrgPlus.merge(linked_workgroup_sets, how='left', on='cost_centre')\n",
    "print(WGS_OrgPlus_cnt['workgroupset'].nunique())"
   ]
  },
  {
   "cell_type": "markdown",
   "metadata": {},
   "source": [
    "#### 4.C. Merge WGS_OrgPlus data to LOSC"
   ]
  },
  {
   "cell_type": "code",
   "execution_count": 19,
   "metadata": {},
   "outputs": [
    {
     "name": "stdout",
     "output_type": "stream",
     "text": [
      "272\n"
     ]
    }
   ],
   "source": [
    "# Join workgroup set to losc data\n",
    "losc_rt_wgs = losc_rt.merge(WGS_OrgPlus_cnt, how='left', left_on=['costcenternumber'], right_on=['cost_centre'])\n",
    "\n",
    "# Join workgroup set to losc data\n",
    "losc_rt_wgs = losc_rt.merge(WGS_OrgPlus_cnt, how='left', left_on=['costcenternumber'], right_on=['cost_centre'])\n",
    "\n",
    "# Drop all LOSC data that was not mapped to sections. \n",
    "losc_rt_wgs = losc_rt_wgs.loc[~losc_rt_wgs['masterdeliveryunit'].isna()]\n",
    "print(losc_rt_wgs['workgroupset'].nunique())"
   ]
  },
  {
   "cell_type": "markdown",
   "metadata": {},
   "source": [
    "#### 4.D. Adjust the cost and units used by the number of Sections attributed to each PO in the LOSC data."
   ]
  },
  {
   "cell_type": "code",
   "execution_count": 20,
   "metadata": {},
   "outputs": [],
   "source": [
    "# Divide by the number of Work Group Sets linked to each PO\n",
    "# Uncomment this section if you want the cost to be equally split between the SMs\n",
    "losc_rt_wgs[\"Adjusted Cost (by SM number)\"] = losc_rt_wgs['receivedamount'] / losc_rt_wgs['Work Group Set Counts']\n",
    "losc_rt_wgs[\"Adjusted Quantity (by SM number)\"] = losc_rt_wgs['receivedquantity'] / losc_rt_wgs['Work Group Set Counts']"
   ]
  },
  {
   "cell_type": "markdown",
   "metadata": {},
   "source": [
    "## 5. Merge LOSC requests with Competences mapping"
   ]
  },
  {
   "cell_type": "markdown",
   "metadata": {},
   "source": [
    "#### 5.A. We can now link the losc data to the competences"
   ]
  },
  {
   "cell_type": "code",
   "execution_count": 21,
   "metadata": {},
   "outputs": [
    {
     "name": "stdout",
     "output_type": "stream",
     "text": [
      "272\n"
     ]
    }
   ],
   "source": [
    "# Merge dataframe\n",
    "losc_merged_comp = losc_rt_wgs.merge(losc_competences, how='left', left_on='roletypecleaned', right_on='roletype')\n",
    "losc_merged_comp.drop('roletype_y', axis=1, inplace=True)  # Drop column duplicated by the merge\n",
    "losc_merged_comp.rename(columns={'roletype_x': 'roletype'}, inplace=True)  # Rename column duplicated by the merge\n",
    "\n",
    "print(losc_merged_comp['workgroupset'].nunique())"
   ]
  },
  {
   "cell_type": "markdown",
   "metadata": {},
   "source": [
    "#### 5.B. Since there are roles that have more than one competence linked to them, we need to find the number of competences for each role and divide the total cost to get the cost per competence for each purchase order (PO request)."
   ]
  },
  {
   "cell_type": "code",
   "execution_count": 22,
   "metadata": {},
   "outputs": [
    {
     "data": {
      "text/plain": [
       "272"
      ]
     },
     "execution_count": 22,
     "metadata": {},
     "output_type": "execute_result"
    }
   ],
   "source": [
    "# Group by PO number and Role as there might be multiple roles per PO\n",
    "# There are cases where the same PO and Role is repeated for multiple periods of time hence the use of a lambda instead of a count\n",
    "no_of_competences = pd.DataFrame(losc_merged_comp.groupby(['purchaseordernumber', 'roletype'])['parentcompetence'].apply(lambda x: x.unique().shape[0]).reset_index())\n",
    "no_of_competences.rename(columns={'parentcompetence': 'Number of Linked Competences'}, inplace=True)\n",
    "\n",
    "# Join the counts back to the original table\n",
    "losc_merged_comp_cnt = losc_merged_comp.merge(no_of_competences, how='left', on=['purchaseordernumber', 'roletype'])\n",
    "# To check the above you can query the \"losc_merged_comp_cnt\" dataframe for different Purchase Order Number\n",
    "losc_merged_comp_cnt['workgroupset'].nunique()"
   ]
  },
  {
   "cell_type": "markdown",
   "metadata": {},
   "source": [
    "#### 5.C. ASSUMPTION: We can now adjust the PO cost per competence. We will divide equally the cost by the number of parent competences linked to it."
   ]
  },
  {
   "cell_type": "code",
   "execution_count": 23,
   "metadata": {},
   "outputs": [],
   "source": [
    "# # Divide by the number of competences\n",
    "losc_merged_comp_cnt[\"Adjusted Cost (£)\"] = losc_merged_comp_cnt[\"Adjusted Cost (by SM number)\"] / losc_merged_comp_cnt['Number of Linked Competences']\n",
    "losc_merged_comp_cnt[\"Adjusted Quantity (hrs)\"] = losc_merged_comp_cnt[\"Adjusted Quantity (by SM number)\"] / losc_merged_comp_cnt['Number of Linked Competences']"
   ]
  },
  {
   "cell_type": "code",
   "execution_count": 24,
   "metadata": {},
   "outputs": [
    {
     "name": "stdout",
     "output_type": "stream",
     "text": [
      "268\n"
     ]
    }
   ],
   "source": [
    "# Remove entries where Linked Competence is na\n",
    "losc_merged_comp_cnt = losc_merged_comp_cnt.loc[~losc_merged_comp_cnt['linkedcompetence'].isna()]\n",
    "print(losc_merged_comp_cnt['workgroupset'].nunique())\n",
    "\n",
    "# remove whitespaces from the columns \n",
    "losc_merged_comp_cnt['linkedcompetence'] = losc_merged_comp_cnt['linkedcompetence'].str.strip()\n"
   ]
  },
  {
   "cell_type": "markdown",
   "metadata": {},
   "source": [
    "#### 5.D. Aggregate data"
   ]
  },
  {
   "cell_type": "code",
   "execution_count": 26,
   "metadata": {},
   "outputs": [
    {
     "name": "stdout",
     "output_type": "stream",
     "text": [
      "268\n"
     ]
    }
   ],
   "source": [
    "# Group by year and competence and role\n",
    "losc_agg = \\\n",
    "losc_merged_comp_cnt[['routelookup','masterdeliveryunit', 'workgroupset','linkedcompetence',\n",
    "            'Adjusted Quantity (hrs)','Adjusted Cost (£)']].groupby(['routelookup','masterdeliveryunit', 'workgroupset','linkedcompetence']).agg({'Adjusted Quantity (hrs)':'sum','Adjusted Cost (£)':'sum'})\n",
    "\n",
    "losc_agg.reset_index(inplace=True)  # Reset the index\n",
    "losc_agg.rename(columns={'linkedcompetence':'Competence Alias'},inplace=True)\n",
    "print(losc_agg['workgroupset'].nunique())"
   ]
  },
  {
   "cell_type": "markdown",
   "metadata": {},
   "source": [
    "## 6. Merge Team Size"
   ]
  },
  {
   "cell_type": "markdown",
   "metadata": {},
   "source": [
    "#### 6.A. Calculate the number of hours worked per year by teams"
   ]
  },
  {
   "cell_type": "code",
   "execution_count": 27,
   "metadata": {},
   "outputs": [
    {
     "name": "stdout",
     "output_type": "stream",
     "text": [
      "1045\n"
     ]
    }
   ],
   "source": [
    "comp_teamsize['Hours worked per year'] = comp_teamsize['teamsize']*1610\n",
    "#comp_teamsize = comp_teamsize.drop('unnamed:0',axis=1)\n",
    "#comp_teamsize['workgroupset'] = comp_teamsize['workgroupset'].str.replace(' ','')\n",
    "\n",
    "#comp_teamsize = comp_teamsize.rename(columns={'masterdeliveryunit':'master-deliveryunit'})\n",
    "print(comp_teamsize['workgroupset'].nunique())\n"
   ]
  },
  {
   "cell_type": "markdown",
   "metadata": {},
   "source": [
    "#### 6.B Merge team size with LOSC data"
   ]
  },
  {
   "cell_type": "code",
   "execution_count": 28,
   "metadata": {},
   "outputs": [
    {
     "name": "stdout",
     "output_type": "stream",
     "text": [
      "268\n"
     ]
    },
    {
     "data": {
      "text/html": [
       "<div>\n",
       "<style scoped>\n",
       "    .dataframe tbody tr th:only-of-type {\n",
       "        vertical-align: middle;\n",
       "    }\n",
       "\n",
       "    .dataframe tbody tr th {\n",
       "        vertical-align: top;\n",
       "    }\n",
       "\n",
       "    .dataframe thead th {\n",
       "        text-align: right;\n",
       "    }\n",
       "</style>\n",
       "<table border=\"1\" class=\"dataframe\">\n",
       "  <thead>\n",
       "    <tr style=\"text-align: right;\">\n",
       "      <th></th>\n",
       "      <th>routelookup</th>\n",
       "      <th>masterdeliveryunit</th>\n",
       "      <th>workgroupset</th>\n",
       "      <th>Competence Alias</th>\n",
       "      <th>Adjusted Quantity (hrs)</th>\n",
       "      <th>Adjusted Cost (£)</th>\n",
       "      <th>teamsize</th>\n",
       "      <th>Hours worked per year</th>\n",
       "    </tr>\n",
       "  </thead>\n",
       "  <tbody>\n",
       "    <tr>\n",
       "      <th>0</th>\n",
       "      <td>Anglia</td>\n",
       "      <td>Ipswich</td>\n",
       "      <td>Colchester SM(OLE)</td>\n",
       "      <td>ES</td>\n",
       "      <td>10.000</td>\n",
       "      <td>305.000</td>\n",
       "      <td>30</td>\n",
       "      <td>48300</td>\n",
       "    </tr>\n",
       "    <tr>\n",
       "      <th>1</th>\n",
       "      <td>Anglia</td>\n",
       "      <td>Ipswich</td>\n",
       "      <td>Colchester SM(SIGNALS)</td>\n",
       "      <td>ES</td>\n",
       "      <td>8.000</td>\n",
       "      <td>221.600</td>\n",
       "      <td>29</td>\n",
       "      <td>46690</td>\n",
       "    </tr>\n",
       "    <tr>\n",
       "      <th>2</th>\n",
       "      <td>Anglia</td>\n",
       "      <td>Ipswich</td>\n",
       "      <td>Ipswich Depot IME</td>\n",
       "      <td>COSS</td>\n",
       "      <td>332.000</td>\n",
       "      <td>5630.240</td>\n",
       "      <td>8</td>\n",
       "      <td>12880</td>\n",
       "    </tr>\n",
       "    <tr>\n",
       "      <th>3</th>\n",
       "      <td>Anglia</td>\n",
       "      <td>Ipswich</td>\n",
       "      <td>Ipswich Depot IME</td>\n",
       "      <td>COSS CRP LLT</td>\n",
       "      <td>332.000</td>\n",
       "      <td>5630.240</td>\n",
       "      <td>8</td>\n",
       "      <td>12880</td>\n",
       "    </tr>\n",
       "    <tr>\n",
       "      <th>4</th>\n",
       "      <td>Anglia</td>\n",
       "      <td>Ipswich</td>\n",
       "      <td>Ipswich Depot IME</td>\n",
       "      <td>COSS OLP</td>\n",
       "      <td>332.000</td>\n",
       "      <td>5630.240</td>\n",
       "      <td>8</td>\n",
       "      <td>12880</td>\n",
       "    </tr>\n",
       "  </tbody>\n",
       "</table>\n",
       "</div>"
      ],
      "text/plain": [
       "  routelookup masterdeliveryunit            workgroupset Competence Alias  \\\n",
       "0      Anglia            Ipswich      Colchester SM(OLE)               ES   \n",
       "1      Anglia            Ipswich  Colchester SM(SIGNALS)               ES   \n",
       "2      Anglia            Ipswich       Ipswich Depot IME             COSS   \n",
       "3      Anglia            Ipswich       Ipswich Depot IME     COSS CRP LLT   \n",
       "4      Anglia            Ipswich       Ipswich Depot IME         COSS OLP   \n",
       "\n",
       "   Adjusted Quantity (hrs)  Adjusted Cost (£)  teamsize  Hours worked per year  \n",
       "0                   10.000            305.000        30                  48300  \n",
       "1                    8.000            221.600        29                  46690  \n",
       "2                  332.000           5630.240         8                  12880  \n",
       "3                  332.000           5630.240         8                  12880  \n",
       "4                  332.000           5630.240         8                  12880  "
      ]
     },
     "execution_count": 28,
     "metadata": {},
     "output_type": "execute_result"
    }
   ],
   "source": [
    "# Merge competent team and losc year 1 and 2 data \n",
    "losc_agg_comp_team = pd.merge(losc_agg,comp_teamsize, \n",
    "                              left_on=['masterdeliveryunit','workgroupset'],\n",
    "                              right_on=['masterdeliveryunit','workgroupset'])\n",
    "print(losc_agg_comp_team['workgroupset'].nunique())\n",
    "losc_agg_comp_team.head(5)"
   ]
  },
  {
   "cell_type": "markdown",
   "metadata": {},
   "source": [
    "## 7. Merge LOSC trainning delivered recommendations"
   ]
  },
  {
   "cell_type": "code",
   "execution_count": 29,
   "metadata": {},
   "outputs": [
    {
     "name": "stdout",
     "output_type": "stream",
     "text": [
      "53\n",
      "15\n"
     ]
    },
    {
     "data": {
      "text/html": [
       "<div>\n",
       "<style scoped>\n",
       "    .dataframe tbody tr th:only-of-type {\n",
       "        vertical-align: middle;\n",
       "    }\n",
       "\n",
       "    .dataframe tbody tr th {\n",
       "        vertical-align: top;\n",
       "    }\n",
       "\n",
       "    .dataframe thead th {\n",
       "        text-align: right;\n",
       "    }\n",
       "</style>\n",
       "<table border=\"1\" class=\"dataframe\">\n",
       "  <thead>\n",
       "    <tr style=\"text-align: right;\">\n",
       "      <th></th>\n",
       "      <th>routelookup</th>\n",
       "      <th>masterdeliveryunit</th>\n",
       "      <th>workgroupset</th>\n",
       "      <th>Competence Alias</th>\n",
       "      <th>Adjusted Quantity (hrs)</th>\n",
       "      <th>Adjusted Cost (£)</th>\n",
       "      <th>teamsize</th>\n",
       "      <th>Hours worked per year</th>\n",
       "      <th>coursetitle</th>\n",
       "      <th>recommendednumberofpeopletotrain</th>\n",
       "      <th>losccostbenefit(£)</th>\n",
       "      <th>employeenumber</th>\n",
       "    </tr>\n",
       "  </thead>\n",
       "  <tbody>\n",
       "    <tr>\n",
       "      <th>139</th>\n",
       "      <td>Anglia</td>\n",
       "      <td>Romford</td>\n",
       "      <td>PITSEA SM (OLE)</td>\n",
       "      <td>PC</td>\n",
       "      <td>37.000</td>\n",
       "      <td>1026.120</td>\n",
       "      <td>28</td>\n",
       "      <td>45080</td>\n",
       "      <td>Protection Controller</td>\n",
       "      <td>1.000</td>\n",
       "      <td>4738.000</td>\n",
       "      <td>1.000</td>\n",
       "    </tr>\n",
       "    <tr>\n",
       "      <th>441</th>\n",
       "      <td>East Midlands</td>\n",
       "      <td>Bedford</td>\n",
       "      <td>Bedford SM(SIGNALS)</td>\n",
       "      <td>SMTH</td>\n",
       "      <td>176.000</td>\n",
       "      <td>7888.320</td>\n",
       "      <td>25</td>\n",
       "      <td>40250</td>\n",
       "      <td>Failure and Incident Testing (Level 1)</td>\n",
       "      <td>1.000</td>\n",
       "      <td>175900.000</td>\n",
       "      <td>2.000</td>\n",
       "    </tr>\n",
       "    <tr>\n",
       "      <th>442</th>\n",
       "      <td>East Midlands</td>\n",
       "      <td>Bedford</td>\n",
       "      <td>Bedford SM(SIGNALS)</td>\n",
       "      <td>SMTH</td>\n",
       "      <td>176.000</td>\n",
       "      <td>7888.320</td>\n",
       "      <td>25</td>\n",
       "      <td>40250</td>\n",
       "      <td>Failure and Incident Testing (Level 2)</td>\n",
       "      <td>1.000</td>\n",
       "      <td>175900.000</td>\n",
       "      <td>1.000</td>\n",
       "    </tr>\n",
       "  </tbody>\n",
       "</table>\n",
       "</div>"
      ],
      "text/plain": [
       "       routelookup masterdeliveryunit         workgroupset Competence Alias  \\\n",
       "139         Anglia            Romford      PITSEA SM (OLE)               PC   \n",
       "441  East Midlands            Bedford  Bedford SM(SIGNALS)             SMTH   \n",
       "442  East Midlands            Bedford  Bedford SM(SIGNALS)             SMTH   \n",
       "\n",
       "     Adjusted Quantity (hrs)  Adjusted Cost (£)  teamsize  \\\n",
       "139                   37.000           1026.120        28   \n",
       "441                  176.000           7888.320        25   \n",
       "442                  176.000           7888.320        25   \n",
       "\n",
       "     Hours worked per year                             coursetitle  \\\n",
       "139                  45080                   Protection Controller   \n",
       "441                  40250  Failure and Incident Testing (Level 1)   \n",
       "442                  40250  Failure and Incident Testing (Level 2)   \n",
       "\n",
       "     recommendednumberofpeopletotrain  losccostbenefit(£)  employeenumber  \n",
       "139                             1.000            4738.000           1.000  \n",
       "441                             1.000          175900.000           2.000  \n",
       "442                             1.000          175900.000           1.000  "
      ]
     },
     "execution_count": 29,
     "metadata": {},
     "output_type": "execute_result"
    }
   ],
   "source": [
    "# NEW METHOD\n",
    "#losc_trainning_demand['workgroupset'] = losc_trainning_demand['workgroupset'].str.replace(' ','')\n",
    "losc_trainning_demand = losc_trainning_demand.rename(columns={'competencealias':'Competence Alias'})\n",
    "print(losc_trainning_demand['workgroupset'].nunique())\n",
    "#osc_trainning_demand\n",
    "\n",
    "## Merge losc data with recommendations\n",
    "losc_agg_comp_team_rec = pd.merge(losc_agg_comp_team,losc_trainning_demand,how='left',\n",
    "                                    left_on = ['masterdeliveryunit','workgroupset','Competence Alias','routelookup'],\n",
    "                                    right_on = ['masterdeliveryunit','workgroupset','Competence Alias','routelookup'])\n",
    "losc_agg_comp_team_rec = losc_agg_comp_team_rec.loc[~losc_agg_comp_team_rec['recommendednumberofpeopletotrain'].isna()]\n",
    "\n",
    "## Number of unique work group sets in pre and post inervention \n",
    "print(losc_agg_comp_team_rec['workgroupset'].nunique())\n",
    "losc_agg_comp_team_rec.head(3)"
   ]
  },
  {
   "cell_type": "markdown",
   "metadata": {},
   "source": [
    "## 8. LOSC KPIs"
   ]
  },
  {
   "cell_type": "markdown",
   "metadata": {},
   "source": [
    "#### 8.A. Work group Set and Competence level"
   ]
  },
  {
   "cell_type": "code",
   "execution_count": 32,
   "metadata": {},
   "outputs": [
    {
     "data": {
      "text/html": [
       "<div>\n",
       "<style scoped>\n",
       "    .dataframe tbody tr th:only-of-type {\n",
       "        vertical-align: middle;\n",
       "    }\n",
       "\n",
       "    .dataframe tbody tr th {\n",
       "        vertical-align: top;\n",
       "    }\n",
       "\n",
       "    .dataframe thead th {\n",
       "        text-align: right;\n",
       "    }\n",
       "</style>\n",
       "<table border=\"1\" class=\"dataframe\">\n",
       "  <thead>\n",
       "    <tr style=\"text-align: right;\">\n",
       "      <th></th>\n",
       "      <th>Route</th>\n",
       "      <th>Master Delivery Unit</th>\n",
       "      <th>Work Group Set</th>\n",
       "      <th>Competence Alias</th>\n",
       "      <th>1.1 LOSC hiring (Hrs)</th>\n",
       "      <th>2.1 LOSC spending (£)</th>\n",
       "      <th>Team Size</th>\n",
       "      <th>1.2 LOSC head count</th>\n",
       "      <th>1.3 Team head count: FTE+LOSC</th>\n",
       "      <th>1.4 Proportion of LOSC as total team headcount</th>\n",
       "    </tr>\n",
       "  </thead>\n",
       "  <tbody>\n",
       "    <tr>\n",
       "      <th>0</th>\n",
       "      <td>Anglia</td>\n",
       "      <td>Romford</td>\n",
       "      <td>PITSEA SM (OLE)</td>\n",
       "      <td>PC</td>\n",
       "      <td>37.000</td>\n",
       "      <td>1026.120</td>\n",
       "      <td>28</td>\n",
       "      <td>0.023</td>\n",
       "      <td>28.023</td>\n",
       "      <td>0.082</td>\n",
       "    </tr>\n",
       "    <tr>\n",
       "      <th>1</th>\n",
       "      <td>East Midlands</td>\n",
       "      <td>Bedford</td>\n",
       "      <td>Bedford SM(SIGNALS)</td>\n",
       "      <td>SMTH</td>\n",
       "      <td>352.000</td>\n",
       "      <td>15776.640</td>\n",
       "      <td>25</td>\n",
       "      <td>0.219</td>\n",
       "      <td>25.219</td>\n",
       "      <td>0.867</td>\n",
       "    </tr>\n",
       "    <tr>\n",
       "      <th>2</th>\n",
       "      <td>Kent</td>\n",
       "      <td>London Bridge</td>\n",
       "      <td>London Bridge Central SM(TRACK)</td>\n",
       "      <td>COSS CRP LLT</td>\n",
       "      <td>42.667</td>\n",
       "      <td>733.013</td>\n",
       "      <td>20</td>\n",
       "      <td>0.027</td>\n",
       "      <td>20.027</td>\n",
       "      <td>0.132</td>\n",
       "    </tr>\n",
       "  </tbody>\n",
       "</table>\n",
       "</div>"
      ],
      "text/plain": [
       "           Route Master Delivery Unit                   Work Group Set  \\\n",
       "0         Anglia              Romford                  PITSEA SM (OLE)   \n",
       "1  East Midlands              Bedford              Bedford SM(SIGNALS)   \n",
       "2           Kent        London Bridge  London Bridge Central SM(TRACK)   \n",
       "\n",
       "  Competence Alias  1.1 LOSC hiring (Hrs)  2.1 LOSC spending (£)  Team Size  \\\n",
       "0               PC                 37.000               1026.120         28   \n",
       "1             SMTH                352.000              15776.640         25   \n",
       "2     COSS CRP LLT                 42.667                733.013         20   \n",
       "\n",
       "   1.2 LOSC head count  1.3 Team head count: FTE+LOSC  \\\n",
       "0                0.023                         28.023   \n",
       "1                0.219                         25.219   \n",
       "2                0.027                         20.027   \n",
       "\n",
       "   1.4 Proportion of LOSC as total team headcount  \n",
       "0                                           0.082  \n",
       "1                                           0.867  \n",
       "2                                           0.132  "
      ]
     },
     "execution_count": 32,
     "metadata": {},
     "output_type": "execute_result"
    }
   ],
   "source": [
    "# group by Work group set and sum quantity recieved \n",
    "tmp2 = losc_agg_comp_team_rec.groupby(['routelookup','masterdeliveryunit','workgroupset','Competence Alias'])[['Adjusted Quantity (hrs)','Adjusted Cost (£)']].sum().reset_index()\n",
    "tmp3 = losc_agg_comp_team_rec.groupby(['workgroupset'])['teamsize'].max().reset_index()\n",
    "\n",
    "losc_final = pd.merge(tmp2,tmp3,left_on=['workgroupset'],right_on=['workgroupset'])\n",
    "losc_final = losc_final.rename(columns={'masterdeliveryunit':'Master Delivery Unit','routelookup':'Route'})\n",
    "losc_final['1.2 LOSC head count'] = losc_final['Adjusted Quantity (hrs)']/1610\n",
    "losc_final = losc_final.rename(columns={'Adjusted Quantity (hrs)':'1.1 LOSC hiring (Hrs)','Adjusted Cost (£)':'2.1 LOSC spending (£)','teamsize':'Team Size','workgroupset':'Work Group Set'})\n",
    "\n",
    "# LOSC KPIs\n",
    "losc_final['1.3 Team head count: FTE+LOSC'] = losc_final['Team Size']+losc_final['1.2 LOSC head count']\n",
    "losc_final['1.4 Proportion of LOSC as total team headcount'] = losc_final['1.2 LOSC head count']/(losc_final['Team Size']+losc_final['1.2 LOSC head count'])*100\n",
    "losc_final.head(3)"
   ]
  },
  {
   "cell_type": "code",
   "execution_count": 33,
   "metadata": {},
   "outputs": [
    {
     "data": {
      "text/html": [
       "<div>\n",
       "<style scoped>\n",
       "    .dataframe tbody tr th:only-of-type {\n",
       "        vertical-align: middle;\n",
       "    }\n",
       "\n",
       "    .dataframe tbody tr th {\n",
       "        vertical-align: top;\n",
       "    }\n",
       "\n",
       "    .dataframe thead th {\n",
       "        text-align: right;\n",
       "    }\n",
       "</style>\n",
       "<table border=\"1\" class=\"dataframe\">\n",
       "  <thead>\n",
       "    <tr style=\"text-align: right;\">\n",
       "      <th></th>\n",
       "      <th>Route</th>\n",
       "      <th>Master Delivery Unit</th>\n",
       "      <th>Work Group Set</th>\n",
       "      <th>Competence Alias</th>\n",
       "      <th>Team Size</th>\n",
       "      <th>KPIs</th>\n",
       "      <th>KPI value</th>\n",
       "    </tr>\n",
       "  </thead>\n",
       "  <tbody>\n",
       "    <tr>\n",
       "      <th>0</th>\n",
       "      <td>Anglia</td>\n",
       "      <td>Romford</td>\n",
       "      <td>PITSEA SM (OLE)</td>\n",
       "      <td>PC</td>\n",
       "      <td>28</td>\n",
       "      <td>1.1 LOSC hiring (Hrs)</td>\n",
       "      <td>37.000</td>\n",
       "    </tr>\n",
       "    <tr>\n",
       "      <th>1</th>\n",
       "      <td>East Midlands</td>\n",
       "      <td>Bedford</td>\n",
       "      <td>Bedford SM(SIGNALS)</td>\n",
       "      <td>SMTH</td>\n",
       "      <td>25</td>\n",
       "      <td>1.1 LOSC hiring (Hrs)</td>\n",
       "      <td>352.000</td>\n",
       "    </tr>\n",
       "    <tr>\n",
       "      <th>2</th>\n",
       "      <td>Kent</td>\n",
       "      <td>London Bridge</td>\n",
       "      <td>London Bridge Central SM(TRACK)</td>\n",
       "      <td>COSS CRP LLT</td>\n",
       "      <td>20</td>\n",
       "      <td>1.1 LOSC hiring (Hrs)</td>\n",
       "      <td>42.667</td>\n",
       "    </tr>\n",
       "    <tr>\n",
       "      <th>3</th>\n",
       "      <td>Kent</td>\n",
       "      <td>London Bridge</td>\n",
       "      <td>London Bridge Central SM(TRACK)</td>\n",
       "      <td>ES</td>\n",
       "      <td>20</td>\n",
       "      <td>1.1 LOSC hiring (Hrs)</td>\n",
       "      <td>41.333</td>\n",
       "    </tr>\n",
       "    <tr>\n",
       "      <th>4</th>\n",
       "      <td>Kent</td>\n",
       "      <td>London Bridge</td>\n",
       "      <td>London Bridge Central SM(TRACK)</td>\n",
       "      <td>LB 3rd-R St-i</td>\n",
       "      <td>20</td>\n",
       "      <td>1.1 LOSC hiring (Hrs)</td>\n",
       "      <td>457.000</td>\n",
       "    </tr>\n",
       "  </tbody>\n",
       "</table>\n",
       "</div>"
      ],
      "text/plain": [
       "           Route Master Delivery Unit                   Work Group Set  \\\n",
       "0         Anglia              Romford                  PITSEA SM (OLE)   \n",
       "1  East Midlands              Bedford              Bedford SM(SIGNALS)   \n",
       "2           Kent        London Bridge  London Bridge Central SM(TRACK)   \n",
       "3           Kent        London Bridge  London Bridge Central SM(TRACK)   \n",
       "4           Kent        London Bridge  London Bridge Central SM(TRACK)   \n",
       "\n",
       "  Competence Alias  Team Size                   KPIs  KPI value  \n",
       "0               PC         28  1.1 LOSC hiring (Hrs)     37.000  \n",
       "1             SMTH         25  1.1 LOSC hiring (Hrs)    352.000  \n",
       "2     COSS CRP LLT         20  1.1 LOSC hiring (Hrs)     42.667  \n",
       "3               ES         20  1.1 LOSC hiring (Hrs)     41.333  \n",
       "4    LB 3rd-R St-i         20  1.1 LOSC hiring (Hrs)    457.000  "
      ]
     },
     "execution_count": 33,
     "metadata": {},
     "output_type": "execute_result"
    }
   ],
   "source": [
    "# The format needs to change to match what Kabita requires for creating the pipelines in SQL \n",
    "losc_final_SQL = pd.melt(losc_final, id_vars=['Route','Master Delivery Unit', 'Work Group Set','Competence Alias','Team Size'], var_name='KPIs', value_name='KPI value')\n",
    "losc_final_SQL.head(5)"
   ]
  },
  {
   "cell_type": "code",
   "execution_count": 35,
   "metadata": {},
   "outputs": [],
   "source": [
    "# save output as csv and upload to azure blob storage containers\n",
    "save_outputs_azure_blobs(losc_final_SQL,output_file_name,blob_service_client_instance_devp)\n",
    "save_outputs_azure_blobs(losc_final_SQL,output_file_name,blob_service_client_instance_test)\n",
    "save_outputs_azure_blobs(losc_final_SQL,output_file_name,blob_service_client_instance_prod)\n",
    "save_outputs_azure_blobs(losc_final_SQL,output_file_name,blob_service_client_instance_staging)\n"
   ]
  },
  {
   "cell_type": "markdown",
   "metadata": {},
   "source": [
    "#### 8.B. Summary of KPIs"
   ]
  },
  {
   "cell_type": "code",
   "execution_count": 36,
   "metadata": {},
   "outputs": [
    {
     "data": {
      "text/html": [
       "<div>\n",
       "<style scoped>\n",
       "    .dataframe tbody tr th:only-of-type {\n",
       "        vertical-align: middle;\n",
       "    }\n",
       "\n",
       "    .dataframe tbody tr th {\n",
       "        vertical-align: top;\n",
       "    }\n",
       "\n",
       "    .dataframe thead th {\n",
       "        text-align: right;\n",
       "    }\n",
       "</style>\n",
       "<table border=\"1\" class=\"dataframe\">\n",
       "  <thead>\n",
       "    <tr style=\"text-align: right;\">\n",
       "      <th></th>\n",
       "      <th>KPIs</th>\n",
       "      <th>Pre-intervention (2019-2020 P01-P04)</th>\n",
       "    </tr>\n",
       "  </thead>\n",
       "  <tbody>\n",
       "    <tr>\n",
       "      <th>0</th>\n",
       "      <td>No. of WGS in LOSC recommendations</td>\n",
       "      <td>53</td>\n",
       "    </tr>\n",
       "    <tr>\n",
       "      <th>1</th>\n",
       "      <td>No. of WGS found in LOSC data</td>\n",
       "      <td>15</td>\n",
       "    </tr>\n",
       "    <tr>\n",
       "      <th>2</th>\n",
       "      <td>1.1 Total LOSC hiring measured in hours/ days</td>\n",
       "      <td>3080.167</td>\n",
       "    </tr>\n",
       "    <tr>\n",
       "      <th>3</th>\n",
       "      <td>1.2 LOSC hiring expressed as equivalent Full T...</td>\n",
       "      <td>1.913</td>\n",
       "    </tr>\n",
       "    <tr>\n",
       "      <th>4</th>\n",
       "      <td>1.3 Total teams’ headcounts including in-house...</td>\n",
       "      <td>487.913</td>\n",
       "    </tr>\n",
       "    <tr>\n",
       "      <th>5</th>\n",
       "      <td>1.4 LOSC FTE as a proportion of the total team...</td>\n",
       "      <td>0.392</td>\n",
       "    </tr>\n",
       "    <tr>\n",
       "      <th>6</th>\n",
       "      <td>1.5 Number of completed jobs and required jobs</td>\n",
       "      <td></td>\n",
       "    </tr>\n",
       "    <tr>\n",
       "      <th>7</th>\n",
       "      <td>2.1 Total LOSC spending</td>\n",
       "      <td>108114.860</td>\n",
       "    </tr>\n",
       "  </tbody>\n",
       "</table>\n",
       "</div>"
      ],
      "text/plain": [
       "                                                KPIs  \\\n",
       "0                 No. of WGS in LOSC recommendations   \n",
       "1                      No. of WGS found in LOSC data   \n",
       "2      1.1 Total LOSC hiring measured in hours/ days   \n",
       "3  1.2 LOSC hiring expressed as equivalent Full T...   \n",
       "4  1.3 Total teams’ headcounts including in-house...   \n",
       "5  1.4 LOSC FTE as a proportion of the total team...   \n",
       "6     1.5 Number of completed jobs and required jobs   \n",
       "7                            2.1 Total LOSC spending   \n",
       "\n",
       "  Pre-intervention (2019-2020 P01-P04)  \n",
       "0                                   53  \n",
       "1                                   15  \n",
       "2                             3080.167  \n",
       "3                                1.913  \n",
       "4                              487.913  \n",
       "5                                0.392  \n",
       "6                                       \n",
       "7                           108114.860  "
      ]
     },
     "execution_count": 36,
     "metadata": {},
     "output_type": "execute_result"
    }
   ],
   "source": [
    "data={'KPIs':['No. of WGS in LOSC recommendations',\n",
    "              'No. of WGS found in LOSC data',\n",
    "              '1.1 Total LOSC hiring measured in hours/ days',\n",
    "              '1.2 LOSC hiring expressed as equivalent Full Time Employees (FTE)',\n",
    "              '1.3 Total teams’ headcounts including in-house workers and equivalent LOSC FTE',\n",
    "              '1.4 LOSC FTE as a proportion of the total team’s headcount',\n",
    "              '1.5 Number of completed jobs and required jobs',\n",
    "              '2.1 Total LOSC spending'],\n",
    "      column_name:[losc_trainning_demand['workgroupset'].nunique(),\n",
    "                          losc_agg_comp_team_rec['workgroupset'].nunique(),\n",
    "                         losc_final['1.1 LOSC hiring (Hrs)'].sum(),\n",
    "                         losc_final['1.1 LOSC hiring (Hrs)'].sum()/1610,\n",
    "                         losc_final['Team Size'].sum()+losc_final['1.2 LOSC head count'].sum(),\n",
    "                         losc_final['1.2 LOSC head count'].sum()/(losc_final['Team Size'].sum()+losc_final['1.2 LOSC head count'].sum())*100,\n",
    "                         '',\n",
    "                         losc_final['2.1 LOSC spending (£)'].sum()]}\n",
    "\n",
    "LOSC_KPIs=pd.DataFrame(data)\n",
    "LOSC_KPIs"
   ]
  },
  {
   "cell_type": "code",
   "execution_count": 37,
   "metadata": {},
   "outputs": [],
   "source": [
    "# read output to csv\n",
    "LOSC_KPIs.to_csv('BT_LOSC_KPIs_TD_PrePost_Summary.csv', index = False)"
   ]
  },
  {
   "cell_type": "markdown",
   "metadata": {},
   "source": [
    "#### 8.C. Data info"
   ]
  },
  {
   "cell_type": "code",
   "execution_count": 38,
   "metadata": {},
   "outputs": [
    {
     "data": {
      "text/html": [
       "<div>\n",
       "<style scoped>\n",
       "    .dataframe tbody tr th:only-of-type {\n",
       "        vertical-align: middle;\n",
       "    }\n",
       "\n",
       "    .dataframe tbody tr th {\n",
       "        vertical-align: top;\n",
       "    }\n",
       "\n",
       "    .dataframe thead th {\n",
       "        text-align: right;\n",
       "    }\n",
       "</style>\n",
       "<table border=\"1\" class=\"dataframe\">\n",
       "  <thead>\n",
       "    <tr style=\"text-align: right;\">\n",
       "      <th></th>\n",
       "      <th></th>\n",
       "      <th>WGS</th>\n",
       "      <th>length</th>\n",
       "    </tr>\n",
       "  </thead>\n",
       "  <tbody>\n",
       "    <tr>\n",
       "      <th>0</th>\n",
       "      <td>LOSC</td>\n",
       "      <td>-</td>\n",
       "      <td>121699</td>\n",
       "    </tr>\n",
       "    <tr>\n",
       "      <th>1</th>\n",
       "      <td>OrgPlus+WGS</td>\n",
       "      <td>1046</td>\n",
       "      <td>1943</td>\n",
       "    </tr>\n",
       "    <tr>\n",
       "      <th>2</th>\n",
       "      <td>competences</td>\n",
       "      <td>-</td>\n",
       "      <td>157</td>\n",
       "    </tr>\n",
       "    <tr>\n",
       "      <th>3</th>\n",
       "      <td>teamsize</td>\n",
       "      <td>1045</td>\n",
       "      <td>1045</td>\n",
       "    </tr>\n",
       "    <tr>\n",
       "      <th>4</th>\n",
       "      <td>Trainning delivered and recommendations</td>\n",
       "      <td>53</td>\n",
       "      <td>65</td>\n",
       "    </tr>\n",
       "    <tr>\n",
       "      <th>5</th>\n",
       "      <td>LOSC time</td>\n",
       "      <td>-</td>\n",
       "      <td>5296</td>\n",
       "    </tr>\n",
       "    <tr>\n",
       "      <th>6</th>\n",
       "      <td>LOSC time + role type</td>\n",
       "      <td>-</td>\n",
       "      <td>2582</td>\n",
       "    </tr>\n",
       "    <tr>\n",
       "      <th>7</th>\n",
       "      <td>LOSC time + role type + (OrgPlus+WGS)</td>\n",
       "      <td>272</td>\n",
       "      <td>2538</td>\n",
       "    </tr>\n",
       "    <tr>\n",
       "      <th>8</th>\n",
       "      <td>LOSC time + role type + (OrgPlus+WGS) + compet...</td>\n",
       "      <td>268</td>\n",
       "      <td>15139</td>\n",
       "    </tr>\n",
       "    <tr>\n",
       "      <th>9</th>\n",
       "      <td>LOSC time + role type + (OrgPlus+WGS) + compet...</td>\n",
       "      <td>268</td>\n",
       "      <td>2710</td>\n",
       "    </tr>\n",
       "    <tr>\n",
       "      <th>10</th>\n",
       "      <td>LOSC time + role type + (OrgPlus+WGS) + compet...</td>\n",
       "      <td>15</td>\n",
       "      <td>19</td>\n",
       "    </tr>\n",
       "  </tbody>\n",
       "</table>\n",
       "</div>"
      ],
      "text/plain": [
       "                                                        WGS  length\n",
       "0                                                LOSC     -  121699\n",
       "1                                         OrgPlus+WGS  1046    1943\n",
       "2                                         competences     -     157\n",
       "3                                            teamsize  1045    1045\n",
       "4             Trainning delivered and recommendations    53      65\n",
       "5                                           LOSC time     -    5296\n",
       "6                               LOSC time + role type     -    2582\n",
       "7               LOSC time + role type + (OrgPlus+WGS)   272    2538\n",
       "8   LOSC time + role type + (OrgPlus+WGS) + compet...   268   15139\n",
       "9   LOSC time + role type + (OrgPlus+WGS) + compet...   268    2710\n",
       "10  LOSC time + role type + (OrgPlus+WGS) + compet...    15      19"
      ]
     },
     "execution_count": 38,
     "metadata": {},
     "output_type": "execute_result"
    }
   ],
   "source": [
    "data={'':['LOSC',\n",
    "              'OrgPlus+WGS',\n",
    "              'competences',\n",
    "              'teamsize',\n",
    "              'Trainning delivered and recommendations',\n",
    "              'LOSC time',\n",
    "              'LOSC time + role type',\n",
    "              'LOSC time + role type + (OrgPlus+WGS)',\n",
    "              'LOSC time + role type + (OrgPlus+WGS) + competences',\n",
    "              'LOSC time + role type + (OrgPlus+WGS) + competences + teamsize',\n",
    "              'LOSC time + role type + (OrgPlus+WGS) + competences + teamsize + trainning delivered'],\n",
    "              'WGS':['-',\n",
    "              WGS_OrgPlus['workgroupset'].nunique(),\n",
    "              '-',\n",
    "              comp_teamsize['workgroupset'].nunique(),\n",
    "              losc_trainning_demand['workgroupset'].nunique(),\n",
    "              '-',\n",
    "              '-',\n",
    "              losc_rt_wgs['workgroupset'].nunique(),\n",
    "              losc_merged_comp_cnt['workgroupset'].nunique(),\n",
    "              losc_agg_comp_team['workgroupset'].nunique(),\n",
    "              losc_agg_comp_team_rec['workgroupset'].nunique()],     \n",
    "              'length':[len(losc),\n",
    "              len(WGS_OrgPlus),\n",
    "              len(losc_competences),\n",
    "              len(comp_teamsize),\n",
    "              len(losc_trainning_demand),\n",
    "              len(losc_time),\n",
    "              len(losc_rt),\n",
    "              len(losc_rt_wgs),\n",
    "              len(losc_merged_comp_cnt),\n",
    "              len(losc_agg_comp_team),\n",
    "              len(losc_agg_comp_team_rec)]}\n",
    "              \n",
    "losc_data_info=pd.DataFrame(data)\n",
    "losc_data_info"
   ]
  }
 ],
 "metadata": {
  "kernelspec": {
   "display_name": "Python 3",
   "language": "python",
   "name": "python3"
  },
  "language_info": {
   "codemirror_mode": {
    "name": "ipython",
    "version": 3
   },
   "file_extension": ".py",
   "mimetype": "text/x-python",
   "name": "python",
   "nbconvert_exporter": "python",
   "pygments_lexer": "ipython3",
   "version": "3.8.8"
  },
  "vscode": {
   "interpreter": {
    "hash": "db48200f30cd3676e4593a3cdb043b1791a744e8ef38beb98db8b8f9b8797541"
   }
  }
 },
 "nbformat": 4,
 "nbformat_minor": 4
}
